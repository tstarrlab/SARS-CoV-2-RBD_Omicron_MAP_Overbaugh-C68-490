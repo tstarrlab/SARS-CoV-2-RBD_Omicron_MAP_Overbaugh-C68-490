{
 "cells": [
  {
   "cell_type": "markdown",
   "metadata": {},
   "source": [
    "# Set SARS1 RBD DMS ACE2 binding and expression scores for thresholds\n",
    "We want to make sure that the filters chosen for the ACE2 binding and RBD expression scores are reasonable such that spurious antibody-escpae mutations that merely fall into the antibody-escape gate due to their poor folding or expression are removed. \n",
    "\n",
    "But, we also want to make sure we aren't throwing out many mutations that are found in nature at reasonable numbers. "
   ]
  },
  {
   "cell_type": "code",
   "execution_count": 1,
   "metadata": {},
   "outputs": [],
   "source": [
    "import os\n",
    "\n",
    "from IPython.display import display, HTML\n",
    "\n",
    "import math\n",
    "import numpy as np\n",
    "import pandas as pd\n",
    "from scipy import stats\n",
    "\n",
    "from plotnine import *\n",
    "\n",
    "from dms_variants.constants import CBPALETTE\n",
    "\n",
    "import yaml\n",
    "\n",
    "%matplotlib inline"
   ]
  },
  {
   "cell_type": "markdown",
   "metadata": {},
   "source": [
    "Read config file"
   ]
  },
  {
   "cell_type": "code",
   "execution_count": 2,
   "metadata": {},
   "outputs": [],
   "source": [
    "with open('config.yaml') as f:\n",
    "    config = yaml.safe_load(f)"
   ]
  },
  {
   "cell_type": "markdown",
   "metadata": {},
   "source": [
    "Define input and output directories"
   ]
  },
  {
   "cell_type": "code",
   "execution_count": 3,
   "metadata": {},
   "outputs": [],
   "source": [
    "datadir = 'data'\n",
    "resultsdir = config['bind_expr_filters_dir_SARS1']\n",
    "\n",
    "os.makedirs(resultsdir, exist_ok=True)"
   ]
  },
  {
   "cell_type": "markdown",
   "metadata": {},
   "source": [
    "Read in the new filters for DMS ACE2 binding and expression scores. "
   ]
  },
  {
   "cell_type": "code",
   "execution_count": 4,
   "metadata": {},
   "outputs": [
    {
     "data": {
      "text/html": [
       "<table border=\"1\" class=\"dataframe\">\n",
       "  <thead>\n",
       "    <tr style=\"text-align: right;\">\n",
       "      <th>metric</th>\n",
       "      <th>score</th>\n",
       "    </tr>\n",
       "  </thead>\n",
       "  <tbody>\n",
       "    <tr>\n",
       "      <td>delta_bind</td>\n",
       "      <td>-2.00</td>\n",
       "    </tr>\n",
       "    <tr>\n",
       "      <td>delta_expr</td>\n",
       "      <td>-1.25</td>\n",
       "    </tr>\n",
       "  </tbody>\n",
       "</table>"
      ],
      "text/plain": [
       "<IPython.core.display.HTML object>"
      ]
     },
     "metadata": {},
     "output_type": "display_data"
    }
   ],
   "source": [
    "og_thresholds={'delta_bind':-2.35, 'delta_expr':-1.0}\n",
    "new_thresholds={'delta_bind':config['escape_score_min_bind_mut_SARS1'], 'delta_expr':config['escape_score_min_expr_mut_SARS1']}\n",
    "\n",
    "og_thresholds_df=pd.DataFrame.from_dict({'metric': ['delta_bind', 'delta_expr'], 'score': [-2.35,-1.0]})\n",
    "new_filter_df=pd.DataFrame({'metric': ['delta_bind', 'delta_expr'], 'score':[config['escape_score_min_bind_mut_SARS1'],config['escape_score_min_expr_mut_SARS1']]})\n",
    "display(HTML(new_filter_df.to_html(index=False)))"
   ]
  },
  {
   "cell_type": "code",
   "execution_count": 5,
   "metadata": {},
   "outputs": [],
   "source": [
    "gisaid_counts_file = config['gisaid_mutation_counts']\n",
    "dms_scores_file = config['mut_bind_expr_SARSr']\n",
    "og_dms_file = config['early2020_mut_bind_expr']"
   ]
  },
  {
   "cell_type": "markdown",
   "metadata": {},
   "source": [
    "## Examine filters and GISAID counts"
   ]
  },
  {
   "cell_type": "code",
   "execution_count": 6,
   "metadata": {},
   "outputs": [
    {
     "data": {
      "text/html": [
       "<table border=\"1\" class=\"dataframe\">\n",
       "  <thead>\n",
       "    <tr style=\"text-align: right;\">\n",
       "      <th>target</th>\n",
       "      <th>wildtype</th>\n",
       "      <th>mutation</th>\n",
       "      <th>site</th>\n",
       "      <th>mutant</th>\n",
       "      <th>delta_bind</th>\n",
       "      <th>delta_expr</th>\n",
       "    </tr>\n",
       "  </thead>\n",
       "  <tbody>\n",
       "    <tr>\n",
       "      <td>SARS-CoV-1_Urbani</td>\n",
       "      <td>N</td>\n",
       "      <td>N331A</td>\n",
       "      <td>331</td>\n",
       "      <td>A</td>\n",
       "      <td>0.10803</td>\n",
       "      <td>0.05730</td>\n",
       "    </tr>\n",
       "    <tr>\n",
       "      <td>SARS-CoV-1_Urbani</td>\n",
       "      <td>N</td>\n",
       "      <td>N331C</td>\n",
       "      <td>331</td>\n",
       "      <td>C</td>\n",
       "      <td>0.02151</td>\n",
       "      <td>-0.36660</td>\n",
       "    </tr>\n",
       "    <tr>\n",
       "      <td>SARS-CoV-1_Urbani</td>\n",
       "      <td>N</td>\n",
       "      <td>N331D</td>\n",
       "      <td>331</td>\n",
       "      <td>D</td>\n",
       "      <td>0.09868</td>\n",
       "      <td>0.09164</td>\n",
       "    </tr>\n",
       "    <tr>\n",
       "      <td>SARS-CoV-1_Urbani</td>\n",
       "      <td>N</td>\n",
       "      <td>N331E</td>\n",
       "      <td>331</td>\n",
       "      <td>E</td>\n",
       "      <td>0.10822</td>\n",
       "      <td>0.13933</td>\n",
       "    </tr>\n",
       "    <tr>\n",
       "      <td>SARS-CoV-1_Urbani</td>\n",
       "      <td>N</td>\n",
       "      <td>N331F</td>\n",
       "      <td>331</td>\n",
       "      <td>F</td>\n",
       "      <td>-0.02287</td>\n",
       "      <td>-0.16358</td>\n",
       "    </tr>\n",
       "  </tbody>\n",
       "</table>"
      ],
      "text/plain": [
       "<IPython.core.display.HTML object>"
      ]
     },
     "metadata": {},
     "output_type": "display_data"
    }
   ],
   "source": [
    "dms_scores = (pd.read_csv(dms_scores_file)\n",
    "              .rename(columns={'huACE2_delta': 'delta_bind'})\n",
    "              .rename(columns={'expression_delta': 'delta_expr'})\n",
    "              .rename(columns={'site': 'site_SARS1'})\n",
    "              .rename(columns={'site_SARS2': 'site'})\n",
    "              .rename(columns={'mutation': 'mutation_SARS1'})\n",
    "              .rename(columns={'mutation_SARS2': 'mutation'}).query(\"target == 'SARS-CoV-1_Urbani'\")\n",
    "             [['target','wildtype', 'mutation', 'site', 'mutant', 'delta_bind', 'delta_expr']]\n",
    "             )\n",
    "\n",
    "dms_scores['site'] = dms_scores['site'].astype(int)\n",
    "\n",
    "display(HTML(dms_scores.head().to_html(index=False)))"
   ]
  },
  {
   "cell_type": "code",
   "execution_count": 7,
   "metadata": {},
   "outputs": [
    {
     "data": {
      "text/html": [
       "<table border=\"1\" class=\"dataframe\">\n",
       "  <thead>\n",
       "    <tr style=\"text-align: right;\">\n",
       "      <th>wildtype</th>\n",
       "      <th>mutation</th>\n",
       "      <th>site</th>\n",
       "      <th>mutant</th>\n",
       "      <th>count</th>\n",
       "      <th>n_countries</th>\n",
       "      <th>frequency</th>\n",
       "      <th>metric</th>\n",
       "      <th>score</th>\n",
       "    </tr>\n",
       "  </thead>\n",
       "  <tbody>\n",
       "    <tr>\n",
       "      <td>N</td>\n",
       "      <td>N331A</td>\n",
       "      <td>331</td>\n",
       "      <td>A</td>\n",
       "      <td>0.0</td>\n",
       "      <td>0.0</td>\n",
       "      <td>0.000000e+00</td>\n",
       "      <td>delta_bind</td>\n",
       "      <td>0.10803</td>\n",
       "    </tr>\n",
       "    <tr>\n",
       "      <td>N</td>\n",
       "      <td>N331C</td>\n",
       "      <td>331</td>\n",
       "      <td>C</td>\n",
       "      <td>0.0</td>\n",
       "      <td>0.0</td>\n",
       "      <td>0.000000e+00</td>\n",
       "      <td>delta_bind</td>\n",
       "      <td>0.02151</td>\n",
       "    </tr>\n",
       "    <tr>\n",
       "      <td>N</td>\n",
       "      <td>N331D</td>\n",
       "      <td>331</td>\n",
       "      <td>D</td>\n",
       "      <td>1.0</td>\n",
       "      <td>1.0</td>\n",
       "      <td>5.178956e-07</td>\n",
       "      <td>delta_bind</td>\n",
       "      <td>0.09868</td>\n",
       "    </tr>\n",
       "    <tr>\n",
       "      <td>N</td>\n",
       "      <td>N331E</td>\n",
       "      <td>331</td>\n",
       "      <td>E</td>\n",
       "      <td>0.0</td>\n",
       "      <td>0.0</td>\n",
       "      <td>0.000000e+00</td>\n",
       "      <td>delta_bind</td>\n",
       "      <td>0.10822</td>\n",
       "    </tr>\n",
       "    <tr>\n",
       "      <td>N</td>\n",
       "      <td>N331F</td>\n",
       "      <td>331</td>\n",
       "      <td>F</td>\n",
       "      <td>0.0</td>\n",
       "      <td>0.0</td>\n",
       "      <td>0.000000e+00</td>\n",
       "      <td>delta_bind</td>\n",
       "      <td>-0.02287</td>\n",
       "    </tr>\n",
       "  </tbody>\n",
       "</table>"
      ],
      "text/plain": [
       "<IPython.core.display.HTML object>"
      ]
     },
     "metadata": {},
     "output_type": "display_data"
    }
   ],
   "source": [
    "gisaid_counts = (pd.read_csv(gisaid_counts_file)\n",
    "                 .drop(columns=['isite', 'wildtype'])\n",
    "                )\n",
    "\n",
    "dms_scores=(dms_scores\n",
    "            .merge(gisaid_counts,\n",
    "                   on=['site', 'mutant'],\n",
    "                   how='left',\n",
    "                   validate='many_to_one',\n",
    "                  )\n",
    "            .fillna({'count':0,'n_countries':0, 'frequency': 0})\n",
    "           )\n",
    "\n",
    "dms_scores=dms_scores.melt(id_vars=['wildtype','mutation', 'site', 'mutant', 'count', 'n_countries', 'frequency'],\n",
    "                           value_vars=['delta_bind', 'delta_expr'], \n",
    "                           var_name='metric', \n",
    "                           value_name='score',\n",
    "                          )\n",
    "\n",
    "display(HTML(dms_scores.head().to_html(index=False)))"
   ]
  },
  {
   "cell_type": "code",
   "execution_count": 8,
   "metadata": {},
   "outputs": [
    {
     "name": "stdout",
     "output_type": "stream",
     "text": [
      "Saving plot to results/bind_expr_filters/SARS1/counts-v-score.pdf\n"
     ]
    },
    {
     "data": {
      "image/png": "[encoded data removed]",
      "text/plain": [
       "<Figure size 500x250 with 2 Axes>"
      ]
     },
     "metadata": {},
     "output_type": "display_data"
    }
   ],
   "source": [
    "p = (ggplot(dms_scores\n",
    "            # assign small numbers to things with 0 GISAID counts or missing scores so they still appear on plot \n",
    "            .replace({'count': {0: 0.1}, 'score': {np.nan: -5}})\n",
    "            .replace({'delta_bind':'ACE2 binding', 'delta_expr':'RBD expression'})\n",
    "           ) +\n",
    "     aes('count', 'score') +\n",
    "     geom_point(alpha=0.2, color='black') +\n",
    "     facet_grid('~ metric') +\n",
    "     scale_x_log10()+\n",
    "     theme_classic() +\n",
    "     geom_hline(data=new_filter_df.replace({'delta_bind':'ACE2 binding', 'delta_expr':'RBD expression'}),\n",
    "                 mapping=aes(yintercept='score'),\n",
    "                linetype='dashed',\n",
    "                color=CBPALETTE[1])+\n",
    "     theme(figure_size=(2.5 * 2, 2.5 * 1),\n",
    "           strip_background=element_blank(),\n",
    "           strip_text=element_text(size=12),\n",
    "          ) +\n",
    "     xlab('mutation counts in GISAID as of Aug. 1, 2021')+\n",
    "     ylab('SARS1 RBD DMS score\\n(single mutants)')\n",
    "     )\n",
    "\n",
    "fig = p.draw()\n",
    "\n",
    "plotfile = os.path.join(resultsdir, f\"counts-v-score.pdf\")\n",
    "print(f\"Saving plot to {plotfile}\")\n",
    "p.save(plotfile, verbose=False)"
   ]
  },
  {
   "cell_type": "code",
   "execution_count": 9,
   "metadata": {},
   "outputs": [
    {
     "name": "stderr",
     "output_type": "stream",
     "text": [
      "/uufs/chpc.utah.edu/common/home/starr-group1/software/pkg/miniconda3/envs/StarrLab1/lib/python3.8/site-packages/plotnine/layer.py:333: PlotnineWarning: stat_boxplot : Removed 88 rows containing non-finite values.\n"
     ]
    },
    {
     "name": "stdout",
     "output_type": "stream",
     "text": [
      "Saving plot to results/bind_expr_filters/SARS1/count-cat-v-score.pdf\n"
     ]
    },
    {
     "name": "stderr",
     "output_type": "stream",
     "text": [
      "/uufs/chpc.utah.edu/common/home/starr-group1/software/pkg/miniconda3/envs/StarrLab1/lib/python3.8/site-packages/plotnine/layer.py:333: PlotnineWarning: stat_boxplot : Removed 88 rows containing non-finite values.\n"
     ]
    },
    {
     "data": {
      "image/png": "[encoded data removed]",
      "text/plain": [
       "<Figure size 500x250 with 2 Axes>"
      ]
     },
     "metadata": {},
     "output_type": "display_data"
    }
   ],
   "source": [
    "def assign_count_categories(x):\n",
    "    if x == 0:\n",
    "        return \"0\"\n",
    "    elif x < 10:\n",
    "        return \"1 to 9\"\n",
    "    elif x < 20:\n",
    "        return \"10 to 19\"\n",
    "    elif x < 50:\n",
    "        return \"20 to 49\"\n",
    "    else:\n",
    "        return \">=50\"\n",
    "    \n",
    "count_categories=[\"0\", \"1 to 9\", \"10 to 19\", \"20 to 49\", \">=50\"]\n",
    "\n",
    "dms_scores=(dms_scores\n",
    "            .assign(count_categories=lambda x: x['count'].apply(assign_count_categories),\n",
    "                   )\n",
    "           )\n",
    "\n",
    "dms_scores=(dms_scores\n",
    "            .assign(count_categories=lambda x: pd.Categorical(x['count_categories'],\n",
    "                                                              categories=count_categories,\n",
    "                                                              ordered=True\n",
    "                                                             ))\n",
    "           )\n",
    "\n",
    "p = (ggplot(dms_scores.replace({'delta_bind':'ACE2 binding', 'delta_expr':'RBD expression'})) +\n",
    "     aes('count_categories', 'score') +\n",
    "     geom_hline(data=new_filter_df.replace({'delta_bind':'ACE2 binding', 'delta_expr':'RBD expression'}),\n",
    "                 mapping=aes(yintercept='score'),\n",
    "                linetype='dashed',\n",
    "                color=CBPALETTE[1])+\n",
    "     geom_boxplot(outlier_alpha=0.2) +\n",
    "     facet_grid('~ metric') +\n",
    "     theme_classic() +\n",
    "     theme(figure_size=(2.5 * 2, 2.5 * 1),\n",
    "           axis_text_x=element_text(angle=90),\n",
    "           strip_background=element_blank(),\n",
    "           strip_text=element_text(size=12),\n",
    "          ) +\n",
    "     xlab('mutation counts in GISAID as of Aug. 1 2021')+\n",
    "     ylab('SARS1 RBD DMS score')\n",
    "     )\n",
    "\n",
    "fig = p.draw()\n",
    "\n",
    "plotfile = os.path.join(resultsdir, f\"count-cat-v-score.pdf\")\n",
    "print(f\"Saving plot to {plotfile}\")\n",
    "p.save(plotfile, verbose=False)"
   ]
  },
  {
   "cell_type": "code",
   "execution_count": 10,
   "metadata": {},
   "outputs": [
    {
     "name": "stderr",
     "output_type": "stream",
     "text": [
      "/uufs/chpc.utah.edu/common/home/starr-group1/software/pkg/miniconda3/envs/StarrLab1/lib/python3.8/site-packages/plotnine/layer.py:333: PlotnineWarning: stat_bin : Removed 96 rows containing non-finite values.\n",
      "/uufs/chpc.utah.edu/common/home/starr-group1/software/pkg/miniconda3/envs/StarrLab1/lib/python3.8/site-packages/plotnine/layer.py:411: PlotnineWarning: geom_histogram : Removed 20 rows containing missing values.\n"
     ]
    },
    {
     "name": "stdout",
     "output_type": "stream",
     "text": [
      "Saving plot to results/bind_expr_filters/SARS1/count-score-histogram.pdf\n"
     ]
    },
    {
     "name": "stderr",
     "output_type": "stream",
     "text": [
      "/uufs/chpc.utah.edu/common/home/starr-group1/software/pkg/miniconda3/envs/StarrLab1/lib/python3.8/site-packages/plotnine/layer.py:333: PlotnineWarning: stat_bin : Removed 96 rows containing non-finite values.\n",
      "/uufs/chpc.utah.edu/common/home/starr-group1/software/pkg/miniconda3/envs/StarrLab1/lib/python3.8/site-packages/plotnine/layer.py:411: PlotnineWarning: geom_histogram : Removed 20 rows containing missing values.\n"
     ]
    },
    {
     "data": {
      "image/png": "[encoded data removed]",
      "text/plain": [
       "<Figure size 500x250 with 2 Axes>"
      ]
     },
     "metadata": {},
     "output_type": "display_data"
    }
   ],
   "source": [
    "x_min=-4.5\n",
    "x_max=0.5\n",
    "\n",
    "p = (ggplot(dms_scores.replace({'delta_bind':'ACE2 binding', 'delta_expr':'RBD expression'})) +\n",
    "     aes(x='score', fill='count_categories') +\n",
    "     geom_histogram(position='identity', bins=50) +\n",
    "     facet_grid('~ metric') +\n",
    "     scale_x_continuous(breaks=np.arange(x_min,x_max,0.5), limits=[x_min, x_max]) +\n",
    "     geom_vline(data=new_filter_df.replace({'delta_bind':'ACE2 binding', 'delta_expr':'RBD expression'}),\n",
    "                     mapping=aes(xintercept='score'),\n",
    "                    linetype='dashed',\n",
    "                    color=CBPALETTE[1])+\n",
    "     theme_classic() +\n",
    "     theme(figure_size=(2.5 * 2, 2.5 * 1),\n",
    "           plot_title=element_text(size=14),\n",
    "           axis_text_x=element_text(angle=90),\n",
    "           strip_background=element_blank(),\n",
    "           strip_text=element_text(size=12),\n",
    "          ) +\n",
    "     ylab('number of mutations')+\n",
    "     xlab('SARS1 RBD DMS score') +\n",
    "     labs(fill='GISAID counts')\n",
    "     )\n",
    "\n",
    "fig = p.draw()\n",
    "\n",
    "plotfile = os.path.join(resultsdir, f\"count-score-histogram.pdf\")\n",
    "print(f\"Saving plot to {plotfile}\")\n",
    "p.save(plotfile, verbose=False)"
   ]
  },
  {
   "cell_type": "markdown",
   "metadata": {},
   "source": [
    "Things I want to know:\n",
    "1. Mutations that have **any** counts in nature but are missing scores\n",
    "2. Mutations that have appreciable counts (>=50) in nature but very low scores\n",
    "3. The scores corresponding to the 95th percentile of all mutations occurring >= 50x in nature\n",
    "4. The scores of mutations to disulfide bonds"
   ]
  },
  {
   "cell_type": "code",
   "execution_count": 11,
   "metadata": {},
   "outputs": [
    {
     "name": "stdout",
     "output_type": "stream",
     "text": [
      "Here are the naturally occurring mutations that are missing scores from SARS1 DMS\n"
     ]
    },
    {
     "data": {
      "text/html": [
       "<table border=\"1\" class=\"dataframe\">\n",
       "  <thead>\n",
       "    <tr style=\"text-align: right;\">\n",
       "      <th>wildtype</th>\n",
       "      <th>mutation</th>\n",
       "      <th>count</th>\n",
       "      <th>n_countries</th>\n",
       "      <th>frequency</th>\n",
       "      <th>score</th>\n",
       "    </tr>\n",
       "  </thead>\n",
       "  <tbody>\n",
       "    <tr>\n",
       "      <td>R</td>\n",
       "      <td>R408K</td>\n",
       "      <td>19.0</td>\n",
       "      <td>2.0</td>\n",
       "      <td>9.840017e-06</td>\n",
       "      <td>NaN</td>\n",
       "    </tr>\n",
       "    <tr>\n",
       "      <td>T</td>\n",
       "      <td>T500I</td>\n",
       "      <td>4.0</td>\n",
       "      <td>1.0</td>\n",
       "      <td>2.071582e-06</td>\n",
       "      <td>NaN</td>\n",
       "    </tr>\n",
       "    <tr>\n",
       "      <td>T</td>\n",
       "      <td>T501P</td>\n",
       "      <td>1.0</td>\n",
       "      <td>1.0</td>\n",
       "      <td>5.178956e-07</td>\n",
       "      <td>NaN</td>\n",
       "    </tr>\n",
       "    <tr>\n",
       "      <td>P</td>\n",
       "      <td>P507S</td>\n",
       "      <td>59.0</td>\n",
       "      <td>12.0</td>\n",
       "      <td>3.055584e-05</td>\n",
       "      <td>NaN</td>\n",
       "    </tr>\n",
       "    <tr>\n",
       "      <td>G</td>\n",
       "      <td>G526T</td>\n",
       "      <td>280.0</td>\n",
       "      <td>6.0</td>\n",
       "      <td>1.450108e-04</td>\n",
       "      <td>NaN</td>\n",
       "    </tr>\n",
       "    <tr>\n",
       "      <td>Y</td>\n",
       "      <td>Y396F</td>\n",
       "      <td>3.0</td>\n",
       "      <td>2.0</td>\n",
       "      <td>1.553687e-06</td>\n",
       "      <td>NaN</td>\n",
       "    </tr>\n",
       "    <tr>\n",
       "      <td>W</td>\n",
       "      <td>W436R</td>\n",
       "      <td>1.0</td>\n",
       "      <td>1.0</td>\n",
       "      <td>5.178956e-07</td>\n",
       "      <td>NaN</td>\n",
       "    </tr>\n",
       "    <tr>\n",
       "      <td>G</td>\n",
       "      <td>G459F</td>\n",
       "      <td>789.0</td>\n",
       "      <td>21.0</td>\n",
       "      <td>4.086196e-04</td>\n",
       "      <td>NaN</td>\n",
       "    </tr>\n",
       "    <tr>\n",
       "      <td>L</td>\n",
       "      <td>L492S</td>\n",
       "      <td>2.0</td>\n",
       "      <td>2.0</td>\n",
       "      <td>1.035791e-06</td>\n",
       "      <td>NaN</td>\n",
       "    </tr>\n",
       "    <tr>\n",
       "      <td>N</td>\n",
       "      <td>N493H</td>\n",
       "      <td>27.0</td>\n",
       "      <td>10.0</td>\n",
       "      <td>1.398318e-05</td>\n",
       "      <td>NaN</td>\n",
       "    </tr>\n",
       "    <tr>\n",
       "      <td>N</td>\n",
       "      <td>N493R</td>\n",
       "      <td>11.0</td>\n",
       "      <td>1.0</td>\n",
       "      <td>5.696852e-06</td>\n",
       "      <td>NaN</td>\n",
       "    </tr>\n",
       "    <tr>\n",
       "      <td>N</td>\n",
       "      <td>N493T</td>\n",
       "      <td>2.0</td>\n",
       "      <td>1.0</td>\n",
       "      <td>1.035791e-06</td>\n",
       "      <td>NaN</td>\n",
       "    </tr>\n",
       "    <tr>\n",
       "      <td>T</td>\n",
       "      <td>T500E</td>\n",
       "      <td>1.0</td>\n",
       "      <td>1.0</td>\n",
       "      <td>5.178956e-07</td>\n",
       "      <td>NaN</td>\n",
       "    </tr>\n",
       "    <tr>\n",
       "      <td>T</td>\n",
       "      <td>T500N</td>\n",
       "      <td>1.0</td>\n",
       "      <td>1.0</td>\n",
       "      <td>5.178956e-07</td>\n",
       "      <td>NaN</td>\n",
       "    </tr>\n",
       "    <tr>\n",
       "      <td>T</td>\n",
       "      <td>T500P</td>\n",
       "      <td>1.0</td>\n",
       "      <td>1.0</td>\n",
       "      <td>5.178956e-07</td>\n",
       "      <td>NaN</td>\n",
       "    </tr>\n",
       "    <tr>\n",
       "      <td>T</td>\n",
       "      <td>T501H</td>\n",
       "      <td>7.0</td>\n",
       "      <td>4.0</td>\n",
       "      <td>3.625269e-06</td>\n",
       "      <td>NaN</td>\n",
       "    </tr>\n",
       "    <tr>\n",
       "      <td>T</td>\n",
       "      <td>T501K</td>\n",
       "      <td>8.0</td>\n",
       "      <td>5.0</td>\n",
       "      <td>4.143165e-06</td>\n",
       "      <td>NaN</td>\n",
       "    </tr>\n",
       "    <tr>\n",
       "      <td>T</td>\n",
       "      <td>T501S</td>\n",
       "      <td>94.0</td>\n",
       "      <td>14.0</td>\n",
       "      <td>4.868219e-05</td>\n",
       "      <td>NaN</td>\n",
       "    </tr>\n",
       "  </tbody>\n",
       "</table>"
      ],
      "text/plain": [
       "<IPython.core.display.HTML object>"
      ]
     },
     "metadata": {},
     "output_type": "display_data"
    }
   ],
   "source": [
    "print('Here are the naturally occurring mutations that are missing scores from SARS1 DMS')\n",
    "display(HTML(dms_scores\n",
    "             .query('count >= 1')\n",
    "             .query('score.isnull()', engine='python')\n",
    "             [['wildtype','mutation', 'count', 'n_countries', 'frequency', 'score']]\n",
    "             .drop_duplicates()\n",
    "             .to_html(index=False)\n",
    "            )\n",
    "       )"
   ]
  },
  {
   "cell_type": "code",
   "execution_count": 12,
   "metadata": {},
   "outputs": [
    {
     "name": "stdout",
     "output_type": "stream",
     "text": [
      "Mutations with >=50 GISAID counts but with bind score < -2.0\n"
     ]
    },
    {
     "data": {
      "text/html": [
       "<table border=\"1\" class=\"dataframe\">\n",
       "  <thead>\n",
       "    <tr style=\"text-align: right;\">\n",
       "      <th>wildtype</th>\n",
       "      <th>mutation</th>\n",
       "      <th>site</th>\n",
       "      <th>mutant</th>\n",
       "      <th>count</th>\n",
       "      <th>n_countries</th>\n",
       "      <th>frequency</th>\n",
       "      <th>metric</th>\n",
       "      <th>score</th>\n",
       "      <th>count_categories</th>\n",
       "    </tr>\n",
       "  </thead>\n",
       "  <tbody>\n",
       "    <tr>\n",
       "      <td>T</td>\n",
       "      <td>T501Y</td>\n",
       "      <td>501</td>\n",
       "      <td>Y</td>\n",
       "      <td>785.0</td>\n",
       "      <td>43.0</td>\n",
       "      <td>0.000407</td>\n",
       "      <td>delta_bind</td>\n",
       "      <td>-3.19745</td>\n",
       "      <td>&gt;=50</td>\n",
       "    </tr>\n",
       "  </tbody>\n",
       "</table>"
      ],
      "text/plain": [
       "<IPython.core.display.HTML object>"
      ]
     },
     "metadata": {},
     "output_type": "display_data"
    },
    {
     "name": "stdout",
     "output_type": "stream",
     "text": [
      "Mutations with >=50 GISAID counts but with expr score < -1.25\n"
     ]
    },
    {
     "data": {
      "text/html": [
       "<table border=\"1\" class=\"dataframe\">\n",
       "  <thead>\n",
       "    <tr style=\"text-align: right;\">\n",
       "      <th>wildtype</th>\n",
       "      <th>mutation</th>\n",
       "      <th>site</th>\n",
       "      <th>mutant</th>\n",
       "      <th>count</th>\n",
       "      <th>n_countries</th>\n",
       "      <th>frequency</th>\n",
       "      <th>metric</th>\n",
       "      <th>score</th>\n",
       "      <th>count_categories</th>\n",
       "    </tr>\n",
       "  </thead>\n",
       "  <tbody>\n",
       "  </tbody>\n",
       "</table>"
      ],
      "text/plain": [
       "<IPython.core.display.HTML object>"
      ]
     },
     "metadata": {},
     "output_type": "display_data"
    }
   ],
   "source": [
    "for metric in ['bind', 'expr']:\n",
    "    m=f\"delta_{metric}\"\n",
    "    score_filter=new_thresholds[m]\n",
    "    print(f'Mutations with >=50 GISAID counts but with {metric} score < {score_filter}')\n",
    "    display(HTML(dms_scores\n",
    "                 .query('metric==@m & count >= 50 & score < @score_filter')\n",
    "                 .drop_duplicates()\n",
    "                 .sort_values(by='score')\n",
    "                 .head(20)\n",
    "                 .to_html(index=False)\n",
    "                )\n",
    "           )"
   ]
  },
  {
   "cell_type": "code",
   "execution_count": 13,
   "metadata": {},
   "outputs": [
    {
     "name": "stdout",
     "output_type": "stream",
     "text": [
      "Here are the scores for mutations to disulfide bonds:\n",
      "Saving plot to results/bind_expr_filters/SARS1/disulfide-histogram.pdf\n"
     ]
    },
    {
     "data": {
      "image/png": "[encoded data removed]",
      "text/plain": [
       "<Figure size 500x250 with 2 Axes>"
      ]
     },
     "metadata": {},
     "output_type": "display_data"
    }
   ],
   "source": [
    "print('Here are the scores for mutations to disulfide bonds:')\n",
    "\n",
    "p = (ggplot(dms_scores\n",
    "            .replace({'delta_bind':'ACE2 binding', 'delta_expr':'RBD expression'})\n",
    "            .assign(wildtype=lambda x: x['mutation'].str[0])\n",
    "            .query('wildtype==\"C\" & mutant!=\"C\"')\n",
    "           ) +\n",
    "     aes(x='score') + \n",
    "     geom_histogram(binwidth=0.25) +\n",
    "     geom_vline(data=new_filter_df.replace({'delta_bind':'ACE2 binding', 'delta_expr':'RBD expression'}),\n",
    "                     mapping=aes(xintercept='score'),\n",
    "                    linetype='dashed',\n",
    "                    color=CBPALETTE[1])+\n",
    "     facet_wrap('~ metric') +\n",
    "     theme_classic() +\n",
    "     theme(figure_size=(2.5 * 2, 2.5 * 1),\n",
    "           plot_title=element_text(size=14),\n",
    "           axis_text_x=element_text(angle=90),\n",
    "           strip_background=element_blank(),\n",
    "           strip_text=element_text(size=12),\n",
    "          ) +\n",
    "     xlab('WH1 RBD DMS score')\n",
    "     )\n",
    "\n",
    "fig = p.draw()\n",
    "\n",
    "plotfile = os.path.join(resultsdir, f\"disulfide-histogram.pdf\")\n",
    "print(f\"Saving plot to {plotfile}\")\n",
    "p.save(plotfile, verbose=False)"
   ]
  },
  {
   "cell_type": "markdown",
   "metadata": {},
   "source": [
    "### Get the bind and expr scores that correspond to the 5th percentile of mutations observed at least 50x in GISAID"
   ]
  },
  {
   "cell_type": "code",
   "execution_count": 14,
   "metadata": {},
   "outputs": [
    {
     "data": {
      "text/html": [
       "<table border=\"1\" class=\"dataframe\">\n",
       "  <thead>\n",
       "    <tr style=\"text-align: right;\">\n",
       "      <th>count_threshold</th>\n",
       "      <th>percentile</th>\n",
       "      <th>bind_count</th>\n",
       "      <th>expr_count</th>\n",
       "    </tr>\n",
       "  </thead>\n",
       "  <tbody>\n",
       "    <tr>\n",
       "      <td>50</td>\n",
       "      <td>1.0</td>\n",
       "      <td>-1.307478</td>\n",
       "      <td>-0.597466</td>\n",
       "    </tr>\n",
       "    <tr>\n",
       "      <td>50</td>\n",
       "      <td>2.5</td>\n",
       "      <td>-1.042863</td>\n",
       "      <td>-0.558922</td>\n",
       "    </tr>\n",
       "    <tr>\n",
       "      <td>50</td>\n",
       "      <td>5.0</td>\n",
       "      <td>-0.653345</td>\n",
       "      <td>-0.339356</td>\n",
       "    </tr>\n",
       "    <tr>\n",
       "      <td>50</td>\n",
       "      <td>10.0</td>\n",
       "      <td>-0.448680</td>\n",
       "      <td>-0.224850</td>\n",
       "    </tr>\n",
       "    <tr>\n",
       "      <td>50</td>\n",
       "      <td>25.0</td>\n",
       "      <td>-0.173897</td>\n",
       "      <td>-0.103080</td>\n",
       "    </tr>\n",
       "  </tbody>\n",
       "</table>"
      ],
      "text/plain": [
       "<IPython.core.display.HTML object>"
      ]
     },
     "metadata": {},
     "output_type": "display_data"
    }
   ],
   "source": [
    "def get_filter(scores_df, metric, count_threshold, percentile):\n",
    "    \n",
    "    scores=(scores_df\n",
    "            .query('metric==@metric & count >=@count_threshold')\n",
    "            .dropna()\n",
    "            )['score'].tolist()\n",
    "            \n",
    "    c=np.percentile(scores, percentile)\n",
    "    \n",
    "    return c\n",
    "\n",
    "count_thresholds = [50]\n",
    "percentiles=[1,2.5,5,10,25]\n",
    "\n",
    "v=[]\n",
    "\n",
    "for i in count_thresholds:\n",
    "    for p in percentiles:\n",
    "        t=(i,p)\n",
    "        \n",
    "        scores=(dms_scores)\n",
    "        bind_filter=get_filter(scores, 'delta_bind', i, p)\n",
    "        expr_filter=get_filter(scores, 'delta_expr', i, p)\n",
    "        \n",
    "        t=(i, p, bind_filter, expr_filter)\n",
    "        \n",
    "        v.append(t)\n",
    "        \n",
    "\n",
    "df = pd.DataFrame(v, columns =['count_threshold', 'percentile', 'bind_count', 'expr_count'])\n",
    "display(HTML(df.to_html(index=False)))"
   ]
  },
  {
   "cell_type": "code",
   "execution_count": 15,
   "metadata": {},
   "outputs": [
    {
     "data": {
      "text/html": [
       "<table border=\"1\" class=\"dataframe\">\n",
       "  <thead>\n",
       "    <tr style=\"text-align: right;\">\n",
       "      <th>site</th>\n",
       "      <th>mutant</th>\n",
       "      <th>delta_bind</th>\n",
       "      <th>delta_expr</th>\n",
       "    </tr>\n",
       "  </thead>\n",
       "  <tbody>\n",
       "    <tr>\n",
       "      <td>331</td>\n",
       "      <td>A</td>\n",
       "      <td>-0.03</td>\n",
       "      <td>-0.11</td>\n",
       "    </tr>\n",
       "    <tr>\n",
       "      <td>331</td>\n",
       "      <td>C</td>\n",
       "      <td>-0.09</td>\n",
       "      <td>-1.26</td>\n",
       "    </tr>\n",
       "  </tbody>\n",
       "</table>"
      ],
      "text/plain": [
       "<IPython.core.display.HTML object>"
      ]
     },
     "metadata": {},
     "output_type": "display_data"
    }
   ],
   "source": [
    "og_dms_scores=(pd.read_csv(og_dms_file)\n",
    "               # remove extraneous columns\n",
    "               .drop(columns=['site_RBD','wildtype', 'mutation', 'mutation_RBD', 'bind_lib1', 'bind_lib2', 'expr_lib1', 'expr_lib2'])\n",
    "               # rename some columns\n",
    "               .rename(columns={'site_SARS2':'site', 'bind_avg':'delta_bind', 'expr_avg':'delta_expr'})\n",
    "              )\n",
    "\n",
    "display(HTML(og_dms_scores.head(2).to_html(index=False)))"
   ]
  },
  {
   "cell_type": "code",
   "execution_count": 16,
   "metadata": {},
   "outputs": [
    {
     "data": {
      "text/html": [
       "<table border=\"1\" class=\"dataframe\">\n",
       "  <thead>\n",
       "    <tr style=\"text-align: right;\">\n",
       "      <th>wildtype</th>\n",
       "      <th>mutation</th>\n",
       "      <th>site</th>\n",
       "      <th>mutant</th>\n",
       "      <th>count</th>\n",
       "      <th>n_countries</th>\n",
       "      <th>frequency</th>\n",
       "      <th>metric</th>\n",
       "      <th>score</th>\n",
       "      <th>count_categories</th>\n",
       "      <th>wuhan1dms_score</th>\n",
       "    </tr>\n",
       "  </thead>\n",
       "  <tbody>\n",
       "    <tr>\n",
       "      <td>N</td>\n",
       "      <td>N331A</td>\n",
       "      <td>331</td>\n",
       "      <td>A</td>\n",
       "      <td>0.0</td>\n",
       "      <td>0.0</td>\n",
       "      <td>0.000000e+00</td>\n",
       "      <td>delta_bind</td>\n",
       "      <td>0.10803</td>\n",
       "      <td>0</td>\n",
       "      <td>-0.03</td>\n",
       "    </tr>\n",
       "    <tr>\n",
       "      <td>N</td>\n",
       "      <td>N331C</td>\n",
       "      <td>331</td>\n",
       "      <td>C</td>\n",
       "      <td>0.0</td>\n",
       "      <td>0.0</td>\n",
       "      <td>0.000000e+00</td>\n",
       "      <td>delta_bind</td>\n",
       "      <td>0.02151</td>\n",
       "      <td>0</td>\n",
       "      <td>-0.09</td>\n",
       "    </tr>\n",
       "    <tr>\n",
       "      <td>N</td>\n",
       "      <td>N331D</td>\n",
       "      <td>331</td>\n",
       "      <td>D</td>\n",
       "      <td>1.0</td>\n",
       "      <td>1.0</td>\n",
       "      <td>5.178956e-07</td>\n",
       "      <td>delta_bind</td>\n",
       "      <td>0.09868</td>\n",
       "      <td>1 to 9</td>\n",
       "      <td>0.03</td>\n",
       "    </tr>\n",
       "    <tr>\n",
       "      <td>N</td>\n",
       "      <td>N331E</td>\n",
       "      <td>331</td>\n",
       "      <td>E</td>\n",
       "      <td>0.0</td>\n",
       "      <td>0.0</td>\n",
       "      <td>0.000000e+00</td>\n",
       "      <td>delta_bind</td>\n",
       "      <td>0.10822</td>\n",
       "      <td>0</td>\n",
       "      <td>0.00</td>\n",
       "    </tr>\n",
       "    <tr>\n",
       "      <td>N</td>\n",
       "      <td>N331F</td>\n",
       "      <td>331</td>\n",
       "      <td>F</td>\n",
       "      <td>0.0</td>\n",
       "      <td>0.0</td>\n",
       "      <td>0.000000e+00</td>\n",
       "      <td>delta_bind</td>\n",
       "      <td>-0.02287</td>\n",
       "      <td>0</td>\n",
       "      <td>-0.10</td>\n",
       "    </tr>\n",
       "  </tbody>\n",
       "</table>"
      ],
      "text/plain": [
       "<IPython.core.display.HTML object>"
      ]
     },
     "metadata": {},
     "output_type": "display_data"
    }
   ],
   "source": [
    "dms_scores=(dms_scores\n",
    "            .merge((og_dms_scores\n",
    "                    .melt(id_vars=['site', 'mutant',],\n",
    "                          value_vars=['delta_bind', 'delta_expr'], \n",
    "                          var_name='metric', \n",
    "                          value_name='wuhan1dms_score',\n",
    "                         )\n",
    "                   ),\n",
    "                   how='left',\n",
    "                   on=['site', 'mutant', 'metric'],\n",
    "                   validate='many_to_one'\n",
    "                  )\n",
    "           )\n",
    "display(HTML(dms_scores.head().to_html(index=False)))"
   ]
  },
  {
   "cell_type": "code",
   "execution_count": 17,
   "metadata": {},
   "outputs": [
    {
     "name": "stdout",
     "output_type": "stream",
     "text": [
      "Mutations from the original Wuhan-Hu-1 library that:\n",
      "pass bind: 3422\n",
      "pass expr: 2328\n",
      "pass both: 2269\n"
     ]
    }
   ],
   "source": [
    "print('Mutations from the original Wuhan-Hu-1 library that:')\n",
    "print('pass bind: '+ str(len(og_dms_scores.query('delta_bind >= -2.35'))))\n",
    "print('pass expr: '+ str(len(og_dms_scores.query('delta_expr >= -1.0'))))\n",
    "print('pass both: '+ str(len(og_dms_scores.query('delta_bind >= -2.35 & delta_expr >= -1.0'))))"
   ]
  },
  {
   "cell_type": "code",
   "execution_count": 18,
   "metadata": {},
   "outputs": [
    {
     "name": "stdout",
     "output_type": "stream",
     "text": [
      "SARS1 SSM mutations that \n",
      "pass bind: 3441 \n",
      "pass expr: 3287 \n",
      "pass both: 3157 \n",
      "pass both and not disulfide: 3043\n",
      "Pass bind, expr, not disulfide, and not WT: 2851\n",
      "Total number of possible mutations to non-disulfide sites: 3633\n"
     ]
    }
   ],
   "source": [
    "bind_threshold=new_thresholds['delta_bind']\n",
    "expr_threshold=new_thresholds['delta_expr']\n",
    "        \n",
    "n_bind=len(dms_scores.query('metric==\"delta_bind\" & score >= @bind_threshold'))\n",
    "n_expr=len(dms_scores.query('metric==\"delta_expr\" & score >= @expr_threshold'))\n",
    "\n",
    "df=(dms_scores\n",
    "     .pivot_table(index=['mutation', 'wildtype', 'mutant'],\n",
    "                  values=['score'],\n",
    "                  columns=['metric'],\n",
    "                 )\n",
    "     .reset_index()\n",
    "       )\n",
    "\n",
    "df.columns=['mutation', 'wildtype', 'mutant','delta_bind', 'delta_expr']\n",
    "\n",
    "n_both=len(df\n",
    "           .query('delta_bind >= @bind_threshold & delta_expr >= @expr_threshold')\n",
    "          )\n",
    "        \n",
    "n_both_notC=len((df\n",
    "                .assign(not_disulfide=lambda x: x['mutation'].str[0] != \"C\")\n",
    "                .query('delta_bind >= @bind_threshold & delta_expr >= @expr_threshold & not_disulfide')\n",
    "          ))\n",
    "\n",
    "n_both_notC_notWT=len((df\n",
    "                .assign(not_disulfide=lambda x: x['mutation'].str[0] != \"C\")\n",
    "                .assign(not_WT=lambda x: x['wildtype']!=x['mutant'])\n",
    "                .query('delta_bind >= @bind_threshold & delta_expr >= @expr_threshold & not_disulfide & not_WT')\n",
    "          ))\n",
    "\n",
    "total_muts_notC=len((df\n",
    "                .assign(not_disulfide=lambda x: x['mutation'].str[0] != \"C\")\n",
    "                .assign(not_WT=lambda x: x['wildtype']!=x['mutant'])\n",
    "                .query('not_disulfide & not_WT')\n",
    "          ))\n",
    "\n",
    "print(f'SARS1 SSM mutations that \\npass bind: {n_bind} \\npass expr: {n_expr} \\npass both: {n_both} \\npass both and not disulfide: {n_both_notC}')\n",
    "print(f'Pass bind, expr, not disulfide, and not WT: {n_both_notC_notWT}')\n",
    "\n",
    "print(f'Total number of possible mutations to non-disulfide sites: {total_muts_notC}')"
   ]
  },
  {
   "cell_type": "code",
   "execution_count": 19,
   "metadata": {},
   "outputs": [
    {
     "name": "stdout",
     "output_type": "stream",
     "text": [
      "This percentage of all variants seen >=50x in GISAID are retained by the binding filter of -2.0\n",
      "nan\n",
      "This percentage of all variants seen >=50x in GISAID are retained by the expression filter of -1.25\n",
      "nan\n"
     ]
    }
   ],
   "source": [
    "print(f'This percentage of all variants seen >=50x in GISAID are retained by the binding filter of {bind_threshold}')\n",
    "print(round(100-stats.percentileofscore((dms_scores\n",
    "                               .query('metric==\"delta_bind\" & count>=50')['score']), \n",
    "                              bind_threshold, \n",
    "                              kind='rank'\n",
    "                             ),\n",
    "            1\n",
    "           )\n",
    "     )\n",
    "\n",
    "print(f'This percentage of all variants seen >=50x in GISAID are retained by the expression filter of {expr_threshold}')\n",
    "print(round(100-stats.percentileofscore((dms_scores\n",
    "                               .query('metric==\"delta_expr\" & count>=50')['score']), \n",
    "                              expr_threshold, \n",
    "                              kind='rank'\n",
    "                             ),\n",
    "            1\n",
    "           )\n",
    "     )\n",
    "\n",
    "\n",
    "# dms_scores.query('metric==\"delta_bind\" & score >= @bind_threshold & count>=50')['score'].min()"
   ]
  },
  {
   "cell_type": "code",
   "execution_count": null,
   "metadata": {},
   "outputs": [],
   "source": []
  },
  {
   "cell_type": "code",
   "execution_count": null,
   "metadata": {},
   "outputs": [],
   "source": []
  }
 ],
 "metadata": {
  "language_info": {
   "name": "python"
  }
 },
 "nbformat": 4,
 "nbformat_minor": 4
}
