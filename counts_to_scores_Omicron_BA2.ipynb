{
 "cells": [
  {
   "cell_type": "markdown",
   "metadata": {},
   "source": [
    "# Analyze counts and compute escape scores\n",
    "This Python Jupyter notebook analyzes the variant counts and looks at mutation coverage and jackpotting.\n",
    "It then computes an \"escape scores\" for each variant after grouping by barcode or substitutions as specified in the configuration."
   ]
  },
  {
   "cell_type": "markdown",
   "metadata": {},
   "source": [
    "## Set up analysis"
   ]
  },
  {
   "cell_type": "markdown",
   "metadata": {},
   "source": [
    "This notebook primarily makes use of the Bloom lab's [dms_variants](https://jbloomlab.github.io/dms_variants) package, and uses [plotnine](https://github.com/has2k1/plotnine) for ggplot2-like plotting syntax:"
   ]
  },
  {
   "cell_type": "code",
   "execution_count": 1,
   "metadata": {},
   "outputs": [],
   "source": [
    "import collections\n",
    "import math\n",
    "import os\n",
    "import warnings\n",
    "\n",
    "import Bio.SeqIO\n",
    "\n",
    "import dms_variants.codonvarianttable\n",
    "from dms_variants.constants import CBPALETTE\n",
    "import dms_variants.plotnine_themes\n",
    "\n",
    "from IPython.display import display, HTML\n",
    "\n",
    "import matplotlib.pyplot as plt\n",
    "\n",
    "import numpy\n",
    "\n",
    "import pandas as pd\n",
    "\n",
    "from plotnine import *\n",
    "\n",
    "import seaborn\n",
    "\n",
    "import yaml"
   ]
  },
  {
   "cell_type": "markdown",
   "metadata": {},
   "source": [
    "Set [plotnine](https://github.com/has2k1/plotnine) theme to the gray-grid one defined in [dms_variants](https://jbloomlab.github.io/dms_variants):"
   ]
  },
  {
   "cell_type": "code",
   "execution_count": 2,
   "metadata": {},
   "outputs": [],
   "source": [
    "theme_set(dms_variants.plotnine_themes.theme_graygrid())"
   ]
  },
  {
   "cell_type": "markdown",
   "metadata": {},
   "source": [
    "Versions of key software:"
   ]
  },
  {
   "cell_type": "code",
   "execution_count": 3,
   "metadata": {},
   "outputs": [
    {
     "name": "stdout",
     "output_type": "stream",
     "text": [
      "Using dms_variants version 1.4.3\n"
     ]
    }
   ],
   "source": [
    "print(f\"Using dms_variants version {dms_variants.__version__}\")"
   ]
  },
  {
   "cell_type": "markdown",
   "metadata": {},
   "source": [
    "Ignore warnings that clutter output:"
   ]
  },
  {
   "cell_type": "code",
   "execution_count": 4,
   "metadata": {},
   "outputs": [],
   "source": [
    "warnings.simplefilter('ignore')"
   ]
  },
  {
   "cell_type": "markdown",
   "metadata": {},
   "source": [
    "Read the configuration file:"
   ]
  },
  {
   "cell_type": "code",
   "execution_count": 5,
   "metadata": {},
   "outputs": [],
   "source": [
    "with open('config.yaml') as f:\n",
    "    config = yaml.safe_load(f)"
   ]
  },
  {
   "cell_type": "markdown",
   "metadata": {},
   "source": [
    "Create output directory:"
   ]
  },
  {
   "cell_type": "code",
   "execution_count": 6,
   "metadata": {},
   "outputs": [],
   "source": [
    "os.makedirs(config['escape_scores_dir'], exist_ok=True)"
   ]
  },
  {
   "cell_type": "markdown",
   "metadata": {},
   "source": [
    "Read information about the samples:"
   ]
  },
  {
   "cell_type": "code",
   "execution_count": 7,
   "metadata": {},
   "outputs": [],
   "source": [
    "samples_df = pd.read_csv(config['barcode_runs_Omicron_BA2'])"
   ]
  },
  {
   "cell_type": "markdown",
   "metadata": {},
   "source": [
    "## Initialize codon-variant table\n",
    "Initialize [CodonVariantTable](https://jbloomlab.github.io/dms_variants/dms_variants.codonvarianttable.html#dms_variants.codonvarianttable.CodonVariantTable) from wildtype gene sequence and the variant counts CSV file.\n",
    "We will then use the plotting functions of this variant table to analyze the counts per sample:"
   ]
  },
  {
   "cell_type": "code",
   "execution_count": 8,
   "metadata": {},
   "outputs": [
    {
     "name": "stdout",
     "output_type": "stream",
     "text": [
      "Read sequence of 603 nt for Omicron_BA2 from data/wildtype_sequence_Omicron_BA2.fasta\n",
      "Initializing CodonVariantTable from gene sequence and results/counts/Omicron_BA2/variant_counts.csv.gz\n",
      "Done initializing CodonVariantTable.\n"
     ]
    }
   ],
   "source": [
    "wt_seqrecord = Bio.SeqIO.read(config['wildtype_sequence_Omicron_BA2'], 'fasta')\n",
    "geneseq = str(wt_seqrecord.seq)\n",
    "primary_target = wt_seqrecord.name\n",
    "print(f\"Read sequence of {len(geneseq)} nt for {primary_target} from {config['wildtype_sequence_Omicron_BA2']}\")\n",
    "      \n",
    "print(f\"Initializing CodonVariantTable from gene sequence and {config['variant_counts_Omicron_BA2']}\")\n",
    "      \n",
    "variants = dms_variants.codonvarianttable.CodonVariantTable.from_variant_count_df(\n",
    "                geneseq=geneseq,\n",
    "                variant_count_df_file=config['variant_counts_Omicron_BA2'],\n",
    "                primary_target=primary_target)\n",
    "      \n",
    "print('Done initializing CodonVariantTable.')"
   ]
  },
  {
   "cell_type": "markdown",
   "metadata": {},
   "source": [
    "## Sequencing counts per sample\n",
    "Average counts per variant for each sample.\n",
    "Note that these are the **sequencing** counts, in some cases they may outstrip the actual number of sorted cells:"
   ]
  },
  {
   "cell_type": "code",
   "execution_count": 9,
   "metadata": {},
   "outputs": [
    {
     "data": {
      "image/png": "[encoded data removed]",
      "text/plain": [
       "<Figure size 130x420 with 2 Axes>"
      ]
     },
     "metadata": {},
     "output_type": "display_data"
    }
   ],
   "source": [
    "p = variants.plotAvgCountsPerVariant(libraries=variants.libraries,\n",
    "                                     by_target=False,\n",
    "                                     orientation='v')\n",
    "p = p + theme(panel_grid_major_x=element_blank())  # no vertical grid lines\n",
    "_ = p.draw()"
   ]
  },
  {
   "cell_type": "markdown",
   "metadata": {},
   "source": [
    "And the numerical values plotted above:"
   ]
  },
  {
   "cell_type": "code",
   "execution_count": 10,
   "metadata": {},
   "outputs": [
    {
     "data": {
      "text/html": [
       "<table border=\"1\" class=\"dataframe\">\n",
       "  <thead>\n",
       "    <tr style=\"text-align: right;\">\n",
       "      <th>library</th>\n",
       "      <th>lib24</th>\n",
       "      <th>lib25</th>\n",
       "    </tr>\n",
       "    <tr>\n",
       "      <th>sample</th>\n",
       "      <th></th>\n",
       "      <th></th>\n",
       "    </tr>\n",
       "  </thead>\n",
       "  <tbody>\n",
       "    <tr>\n",
       "      <th>exptREF3-none-0-ref</th>\n",
       "      <td>369.4</td>\n",
       "      <td>419.9</td>\n",
       "    </tr>\n",
       "    <tr>\n",
       "      <th>expt7-C68_490-53-abneg</th>\n",
       "      <td>49.0</td>\n",
       "      <td>18.3</td>\n",
       "    </tr>\n",
       "  </tbody>\n",
       "</table>"
      ],
      "text/plain": [
       "<IPython.core.display.HTML object>"
      ]
     },
     "metadata": {},
     "output_type": "display_data"
    }
   ],
   "source": [
    "display(HTML(\n",
    " variants.avgCountsPerVariant(libraries=variants.libraries,\n",
    "                               by_target=False)\n",
    " .pivot_table(index='sample',\n",
    "              columns='library',\n",
    "              values='avg_counts_per_variant')\n",
    " .round(1)\n",
    " .to_html()\n",
    " ))"
   ]
  },
  {
   "cell_type": "markdown",
   "metadata": {},
   "source": [
    "## Mutations per variant\n",
    "Average number of mutations per gene among all variants of the primary target, separately for each date:"
   ]
  },
  {
   "cell_type": "code",
   "execution_count": 11,
   "metadata": {},
   "outputs": [
    {
     "data": {
      "image/png": "[encoded data removed]",
      "text/plain": [
       "<Figure size 760x360 with 4 Axes>"
      ]
     },
     "metadata": {},
     "output_type": "display_data"
    }
   ],
   "source": [
    "#this plotting is very slow when lots of samples, so for now plots are commented out\n",
    "\n",
    "for date, date_df in samples_df.groupby('date', sort=False):\n",
    "   p = variants.plotNumCodonMutsByType(variant_type='all',\n",
    "                                       orientation='v',\n",
    "                                       libraries=variants.libraries,\n",
    "                                       samples=date_df['sample'].unique().tolist(),\n",
    "                                       widthscale=2)\n",
    "   p = p + theme(panel_grid_major_x=element_blank())  # no vertical grid lines\n",
    "   fig = p.draw()\n",
    "   display(fig)\n",
    "   plt.close(fig)"
   ]
  },
  {
   "cell_type": "markdown",
   "metadata": {},
   "source": [
    "Now similar plots but showing mutation frequency across the gene:"
   ]
  },
  {
   "cell_type": "code",
   "execution_count": 12,
   "metadata": {},
   "outputs": [
    {
     "data": {
      "image/png": "[encoded data removed]",
      "text/plain": [
       "<Figure size 780x280 with 4 Axes>"
      ]
     },
     "metadata": {},
     "output_type": "display_data"
    }
   ],
   "source": [
    "# this plotting is very slow when lots of samples, so for now code commented out\n",
    "\n",
    "for date, date_df in samples_df.groupby('date', sort=False):\n",
    "   p = variants.plotMutFreqs(variant_type='all',\n",
    "                             mut_type='codon',\n",
    "                             orientation='v',\n",
    "                             libraries=variants.libraries,\n",
    "                             samples=date_df['sample'].unique().tolist(),\n",
    "                             widthscale=1.5)\n",
    "   fig = p.draw()\n",
    "   display(fig)\n",
    "   plt.close(fig)"
   ]
  },
  {
   "cell_type": "markdown",
   "metadata": {},
   "source": [
    "## Jackpotting and mutation coverage in pre-selection libraries\n",
    "We look at the distribution of counts in the \"reference\" (pre-selection) libraries to see if they seem jackpotted (a few variants at very high frequency):"
   ]
  },
  {
   "cell_type": "code",
   "execution_count": 13,
   "metadata": {},
   "outputs": [],
   "source": [
    "pre_samples_df = samples_df.query('selection == \"reference\"')"
   ]
  },
  {
   "cell_type": "markdown",
   "metadata": {},
   "source": [
    "Distribution of mutations along the gene for the pre-selection samples; big spikes may indicate jackpotting:"
   ]
  },
  {
   "cell_type": "code",
   "execution_count": 14,
   "metadata": {},
   "outputs": [],
   "source": [
    "# this plotting is very slow when lots of samples, so for now code commented out\n",
    "\n",
    "p = variants.plotMutFreqs(variant_type='all',\n",
    "                         mut_type='codon',\n",
    "                         orientation='v',\n",
    "                         libraries=variants.libraries,\n",
    "                         samples=pre_samples_df['sample'].unique().tolist(),\n",
    "                         widthscale=1.5)\n",
    "_ = p.draw()"
   ]
  },
  {
   "cell_type": "markdown",
   "metadata": {},
   "source": [
    "How many mutations are observed frequently in pre-selection libraries?\n",
    "Note that the libraries have been pre-selected for ACE2 binding, so we expect stop variants to mostly be missing.\n",
    "Make the plot both for all variants and just single-mutant variants:"
   ]
  },
  {
   "cell_type": "code",
   "execution_count": 15,
   "metadata": {},
   "outputs": [],
   "source": [
    "# this plotting is very slow when lots of samples, so for now code commented out\n",
    "\n",
    "for variant_type in ['all', 'single']:\n",
    "   p = variants.plotCumulMutCoverage(\n",
    "                         variant_type=variant_type,\n",
    "                         mut_type='aa',\n",
    "                         orientation='v',\n",
    "                         libraries=variants.libraries,\n",
    "                         samples=pre_samples_df['sample'].unique().tolist(),\n",
    "                         widthscale=1.8,\n",
    "                         heightscale=1.2)\n",
    "   _ = p.draw()"
   ]
  },
  {
   "cell_type": "markdown",
   "metadata": {},
   "source": [
    "Now make a plot showing what number and fraction of counts are for each variant in each pre-selection sample / library.\n",
    "If some variants constitute a very high fraction, then that indicates extensive bottlenecking:"
   ]
  },
  {
   "cell_type": "code",
   "execution_count": 16,
   "metadata": {},
   "outputs": [],
   "source": [
    "for ystat in ['frac_counts', 'count']:\n",
    "    p = variants.plotCountsPerVariant(ystat=ystat,\n",
    "                                      libraries=variants.libraries,\n",
    "                                      samples=pre_samples_df['sample'].unique().tolist(),\n",
    "                                      orientation='v',\n",
    "                                      widthscale=1.75,\n",
    "                                      )\n",
    "    _ = p.draw()"
   ]
  },
  {
   "cell_type": "markdown",
   "metadata": {},
   "source": [
    "Now make the same plot breaking down by variant class, which enables determination of which types of variants are at high and low frequencies.\n",
    "For this plot (unlike one above not classified by category) we only show variants of the primary target (not the homologs), and also group synonymous with wildtype in order to reduce number of plotted categories to make more interpretable:"
   ]
  },
  {
   "cell_type": "code",
   "execution_count": 17,
   "metadata": {},
   "outputs": [],
   "source": [
    "for ystat in ['frac_counts', 'count']:\n",
    "    p = variants.plotCountsPerVariant(ystat=ystat,\n",
    "                                      libraries=variants.libraries,\n",
    "                                      samples=pre_samples_df['sample'].unique().tolist(),\n",
    "                                      orientation='v',\n",
    "                                      widthscale=1.75,\n",
    "                                      by_variant_class=True,\n",
    "                                      classifyVariants_kwargs={'syn_as_wt': True},\n",
    "                                      primary_target_only=True,\n",
    "                                      )\n",
    "    _ = p.draw()"
   ]
  },
  {
   "cell_type": "markdown",
   "metadata": {},
   "source": [
    "We also directly look to see what is the variant in each reference library / sample with the highest fraction counts.\n",
    "Knowing if the highest frequency variant is shared helps determine **where** in the experiment the jackpotting happened:"
   ]
  },
  {
   "cell_type": "code",
   "execution_count": 18,
   "metadata": {},
   "outputs": [
    {
     "data": {
      "text/html": [
       "<table border=\"1\" class=\"dataframe\">\n",
       "  <thead>\n",
       "    <tr style=\"text-align: right;\">\n",
       "      <th></th>\n",
       "      <th></th>\n",
       "      <th>frac_counts</th>\n",
       "      <th>target</th>\n",
       "      <th>barcode</th>\n",
       "      <th>aa_substitutions</th>\n",
       "      <th>codon_substitutions</th>\n",
       "    </tr>\n",
       "    <tr>\n",
       "      <th>library</th>\n",
       "      <th>sample</th>\n",
       "      <th></th>\n",
       "      <th></th>\n",
       "      <th></th>\n",
       "      <th></th>\n",
       "      <th></th>\n",
       "    </tr>\n",
       "  </thead>\n",
       "  <tbody>\n",
       "    <tr>\n",
       "      <th>lib24</th>\n",
       "      <th>exptREF3-none-0-ref</th>\n",
       "      <td>0.0001</td>\n",
       "      <td>Omicron_BA2</td>\n",
       "      <td>GATGCCGGTGAGATAG</td>\n",
       "      <td>V115M</td>\n",
       "      <td>GTT115ATG</td>\n",
       "    </tr>\n",
       "    <tr>\n",
       "      <th>lib25</th>\n",
       "      <th>exptREF3-none-0-ref</th>\n",
       "      <td>0.0001</td>\n",
       "      <td>Omicron_BA2</td>\n",
       "      <td>CGAGAATGCAAACCCA</td>\n",
       "      <td>S164M</td>\n",
       "      <td>TCT164ATG</td>\n",
       "    </tr>\n",
       "  </tbody>\n",
       "</table>"
      ],
      "text/plain": [
       "<IPython.core.display.HTML object>"
      ]
     },
     "metadata": {},
     "output_type": "display_data"
    }
   ],
   "source": [
    "frac_counts_per_variant = (\n",
    "        variants.add_frac_counts(variants.variant_count_df)\n",
    "        .query(f\"sample in {pre_samples_df['sample'].unique().tolist()}\")\n",
    "        )\n",
    "\n",
    "display(HTML(\n",
    "    frac_counts_per_variant\n",
    "    .sort_values('frac_counts', ascending=False)\n",
    "    .groupby(['library', 'sample'])\n",
    "    .head(n=1)\n",
    "    .sort_values(['library', 'sample'])\n",
    "    .set_index(['library', 'sample'])\n",
    "    [['frac_counts', 'target', 'barcode', 'aa_substitutions', 'codon_substitutions']]\n",
    "    .round(4)\n",
    "    .to_html()\n",
    "    ))"
   ]
  },
  {
   "cell_type": "markdown",
   "metadata": {},
   "source": [
    "To further where the jackpotting relative to the generation of the reference samples, we plot the correlation among the fraction of counts for the different reference samples.\n",
    "If the fractions are highly correlated, that indicates that the jackpotting occurred in some upstream step common to the reference samples:"
   ]
  },
  {
   "cell_type": "code",
   "execution_count": 19,
   "metadata": {},
   "outputs": [
    {
     "data": {
      "image/png": "[encoded data removed]",
      "text/plain": [
       "<Figure size 510x280 with 2 Axes>"
      ]
     },
     "metadata": {},
     "output_type": "display_data"
    },
    {
     "data": {
      "image/png": "[encoded data removed]",
      "text/plain": [
       "<Figure size 522x408 with 2 Axes>"
      ]
     },
     "metadata": {},
     "output_type": "display_data"
    },
    {
     "data": {
      "image/png": "[encoded data removed]",
      "text/plain": [
       "<Figure size 522x408 with 2 Axes>"
      ]
     },
     "metadata": {},
     "output_type": "display_data"
    },
    {
     "data": {
      "image/png": "[encoded data removed]",
      "text/plain": [
       "<Figure size 437.5x360 with 2 Axes>"
      ]
     },
     "metadata": {},
     "output_type": "display_data"
    },
    {
     "data": {
      "image/png": "[encoded data removed]",
      "text/plain": [
       "<Figure size 437.5x360 with 2 Axes>"
      ]
     },
     "metadata": {},
     "output_type": "display_data"
    },
    {
     "data": {
      "image/png": "[encoded data removed]",
      "text/plain": [
       "<Figure size 437.5x360 with 2 Axes>"
      ]
     },
     "metadata": {},
     "output_type": "display_data"
    },
    {
     "data": {
      "image/png": "[encoded data removed]",
      "text/plain": [
       "<Figure size 437.5x360 with 2 Axes>"
      ]
     },
     "metadata": {},
     "output_type": "display_data"
    },
    {
     "data": {
      "image/png": "[encoded data removed]",
      "text/plain": [
       "<Figure size 250x250 with 2 Axes>"
      ]
     },
     "metadata": {},
     "output_type": "display_data"
    },
    {
     "data": {
      "image/png": "[encoded data removed]",
      "text/plain": [
       "<Figure size 250x250 with 2 Axes>"
      ]
     },
     "metadata": {},
     "output_type": "display_data"
    }
   ],
   "source": [
    "# this code makes a full matrix of scatter plots, but is REALLY SLOW. So for now,\n",
    "# it is commented out in favor of code that just makes correlation matrix.\n",
    "for lib, lib_df in frac_counts_per_variant.groupby('library'):\n",
    "   wide_lib_df = lib_df.pivot_table(index=['target', 'barcode'],\n",
    "                                    columns='sample',\n",
    "                                    values='frac_counts')\n",
    "   g = seaborn.pairplot(wide_lib_df, corner=True, plot_kws={'alpha': 0.5}, diag_kind='kde')\n",
    "   _ = g.fig.suptitle(lib, size=18)\n",
    "   plt.show()"
   ]
  },
  {
   "cell_type": "markdown",
   "metadata": {},
   "source": [
    "## Examine counts for wildtype variants\n",
    "The type of score we use to quantify escape depends on how well represented wildtype is in the selected libraries.\n",
    "If wildtype is still well represented, we can use a more conventional functional score that gives differential selection relative to wildtype.\n",
    "If wildtype is not well represented, then we need an alternative score that does not involve normalizing frequencies to wildtype.\n",
    "\n",
    "First get average fraction of counts per variant for each variant class:"
   ]
  },
  {
   "cell_type": "code",
   "execution_count": 20,
   "metadata": {},
   "outputs": [
    {
     "data": {
      "text/html": [
       "<table border=\"1\" class=\"dataframe\">\n",
       "  <thead>\n",
       "    <tr style=\"text-align: right;\">\n",
       "      <th>library</th>\n",
       "      <th>sample</th>\n",
       "      <th>variant_class</th>\n",
       "      <th>avg_frac_counts</th>\n",
       "      <th>date</th>\n",
       "      <th>antibody</th>\n",
       "      <th>concentration</th>\n",
       "      <th>selection</th>\n",
       "    </tr>\n",
       "  </thead>\n",
       "  <tbody>\n",
       "    <tr>\n",
       "      <td>lib24</td>\n",
       "      <td>exptREF3-none-0-ref</td>\n",
       "      <td>wildtype</td>\n",
       "      <td>0.000008</td>\n",
       "      <td>230714</td>\n",
       "      <td>none</td>\n",
       "      <td>0</td>\n",
       "      <td>reference</td>\n",
       "    </tr>\n",
       "    <tr>\n",
       "      <td>lib24</td>\n",
       "      <td>exptREF3-none-0-ref</td>\n",
       "      <td>synonymous</td>\n",
       "      <td>0.000013</td>\n",
       "      <td>230714</td>\n",
       "      <td>none</td>\n",
       "      <td>0</td>\n",
       "      <td>reference</td>\n",
       "    </tr>\n",
       "    <tr>\n",
       "      <td>lib24</td>\n",
       "      <td>exptREF3-none-0-ref</td>\n",
       "      <td>1 nonsynonymous</td>\n",
       "      <td>0.000008</td>\n",
       "      <td>230714</td>\n",
       "      <td>none</td>\n",
       "      <td>0</td>\n",
       "      <td>reference</td>\n",
       "    </tr>\n",
       "    <tr>\n",
       "      <td>lib24</td>\n",
       "      <td>exptREF3-none-0-ref</td>\n",
       "      <td>&gt;1 nonsynonymous</td>\n",
       "      <td>0.000008</td>\n",
       "      <td>230714</td>\n",
       "      <td>none</td>\n",
       "      <td>0</td>\n",
       "      <td>reference</td>\n",
       "    </tr>\n",
       "    <tr>\n",
       "      <td>lib24</td>\n",
       "      <td>exptREF3-none-0-ref</td>\n",
       "      <td>stop</td>\n",
       "      <td>0.000010</td>\n",
       "      <td>230714</td>\n",
       "      <td>none</td>\n",
       "      <td>0</td>\n",
       "      <td>reference</td>\n",
       "    </tr>\n",
       "  </tbody>\n",
       "</table>"
      ],
      "text/plain": [
       "<IPython.core.display.HTML object>"
      ]
     },
     "metadata": {},
     "output_type": "display_data"
    }
   ],
   "source": [
    "counts_by_class = (\n",
    "    variants.variant_count_df\n",
    "    .pipe(variants.add_frac_counts)\n",
    "    .pipe(variants.classifyVariants,\n",
    "          primary_target=variants.primary_target,\n",
    "          non_primary_target_class='homolog',\n",
    "          class_as_categorical=True)\n",
    "    .groupby(['library', 'sample', 'variant_class'])\n",
    "    .aggregate(avg_frac_counts=pd.NamedAgg('frac_counts', 'mean'))\n",
    "    .reset_index()\n",
    "    .merge(samples_df[['sample', 'library', 'date', 'antibody', 'concentration', 'selection']],\n",
    "           on=['sample', 'library'], validate='many_to_one')\n",
    "    )\n",
    "\n",
    "display(HTML(counts_by_class.head().to_html(index=False)))"
   ]
  },
  {
   "cell_type": "markdown",
   "metadata": {},
   "source": [
    "Plot average fraction of all counts per variant for each variant class.\n",
    "If the values for wildtype are low for the non-reference samples (such as more similar to stop the nonsynonymous), then normalizing by wildtype in calculating scores will probably not work well as wildtype is too depleted:"
   ]
  },
  {
   "cell_type": "code",
   "execution_count": 21,
   "metadata": {},
   "outputs": [],
   "source": [
    "min_frac = 1e-7  # plot values < this as this\n",
    "\n",
    "p = (ggplot(counts_by_class\n",
    "            .assign(avg_frac_counts=lambda x: numpy.clip(x['avg_frac_counts'], min_frac, None))\n",
    "            ) +\n",
    "     aes('avg_frac_counts', 'sample', color='selection') +\n",
    "     geom_point(size=2) +\n",
    "     scale_color_manual(values=CBPALETTE[1:]) +\n",
    "     facet_grid('library ~ variant_class') +\n",
    "     scale_x_log10() +\n",
    "     theme(axis_text_x=element_text(angle=90),\n",
    "           figure_size=(2.5 * counts_by_class['variant_class'].nunique(),\n",
    "                        0.2 * counts_by_class['library'].nunique() * \n",
    "                        counts_by_class['sample'].nunique())\n",
    "           ) +\n",
    "     geom_vline(xintercept=min_frac, linetype='dotted', color=CBPALETTE[3])\n",
    "     )\n",
    "\n",
    "_ = p.draw()"
   ]
  },
  {
   "cell_type": "markdown",
   "metadata": {},
   "source": [
    "## Compute escape scores\n",
    "We use the escape score metric, which does **not** involve normalizing to wildtype and so isn't strongly affected by low wildtype counts.\n",
    "We compute the scores using the method [dms_variants.codonvarianttable.CodonVariantTable.escape_scores](https://jbloomlab.github.io/dms_variants/dms_variants.codonvarianttable.html?highlight=escape_scores#dms_variants.codonvarianttable.CodonVariantTable.escape_scores).\n",
    "\n",
    "First, define what samples to compare for each calculation, matching each post-selection (escape) to the pre-selection (reference) sample on the same date:"
   ]
  },
  {
   "cell_type": "code",
   "execution_count": 22,
   "metadata": {},
   "outputs": [
    {
     "name": "stdout",
     "output_type": "stream",
     "text": [
      "Writing samples used to compute escape scores to results/escape_scores/samples_Omicron_BA2.csv\n",
      "\n"
     ]
    },
    {
     "data": {
      "text/html": [
       "<table border=\"1\" class=\"dataframe\">\n",
       "  <thead>\n",
       "    <tr style=\"text-align: right;\">\n",
       "      <th>name</th>\n",
       "      <th>library</th>\n",
       "      <th>antibody</th>\n",
       "      <th>concentration</th>\n",
       "      <th>date</th>\n",
       "      <th>pre_sample</th>\n",
       "      <th>post_sample</th>\n",
       "      <th>frac_escape</th>\n",
       "      <th>pre_cells_sorted</th>\n",
       "      <th>post_cells_sorted</th>\n",
       "    </tr>\n",
       "  </thead>\n",
       "  <tbody>\n",
       "    <tr>\n",
       "      <td>C68_490_53</td>\n",
       "      <td>lib24</td>\n",
       "      <td>C68_490</td>\n",
       "      <td>53</td>\n",
       "      <td>230714</td>\n",
       "      <td>exptREF3-none-0-ref</td>\n",
       "      <td>expt7-C68_490-53-abneg</td>\n",
       "      <td>0.095</td>\n",
       "      <td>400000.0</td>\n",
       "      <td>NaN</td>\n",
       "    </tr>\n",
       "    <tr>\n",
       "      <td>C68_490_53</td>\n",
       "      <td>lib25</td>\n",
       "      <td>C68_490</td>\n",
       "      <td>53</td>\n",
       "      <td>230714</td>\n",
       "      <td>exptREF3-none-0-ref</td>\n",
       "      <td>expt7-C68_490-53-abneg</td>\n",
       "      <td>0.100</td>\n",
       "      <td>400000.0</td>\n",
       "      <td>NaN</td>\n",
       "    </tr>\n",
       "  </tbody>\n",
       "</table>"
      ],
      "text/plain": [
       "<IPython.core.display.HTML object>"
      ]
     },
     "metadata": {},
     "output_type": "display_data"
    }
   ],
   "source": [
    "score_sample_df = (\n",
    "    samples_df\n",
    "    .query('selection == \"escape\"')\n",
    "    .rename(columns={'sample': 'post_sample',\n",
    "                     'number_cells': 'pre_cells_sorted'})\n",
    "    .merge(samples_df\n",
    "           .query('selection == \"reference\"')\n",
    "           [['sample', 'library', 'date', 'number_cells']]\n",
    "           .rename(columns={'sample': 'pre_sample',\n",
    "                            'number_cells': 'post_cells_sorted'}),\n",
    "           how='left', on=['date', 'library'], validate='many_to_one',\n",
    "           )\n",
    "    .assign(name=lambda x: x['antibody'] + '_' + x['concentration'].astype(str))\n",
    "    # add dates to names where needed to make unique\n",
    "    .assign(n_libs=lambda x: x.groupby(['name', 'date'])['pre_sample'].transform('count'))\n",
    "    .sort_values(['name', 'date', 'n_libs'], ascending=False)\n",
    "    .assign(i_name=lambda x: x.groupby(['library', 'name'], sort=False)['pre_sample'].cumcount(),\n",
    "            name=lambda x: x.apply(lambda r: r['name'] + '_' + str(r['date']) if r['i_name'] > 0 else r['name'],\n",
    "                                   axis=1),\n",
    "            )\n",
    "    .sort_values(['antibody', 'concentration', 'library', 'i_name'])\n",
    "    # get columns of interest\n",
    "    [['name', 'library', 'antibody', 'concentration', 'date',\n",
    "      'pre_sample', 'post_sample', 'frac_escape', 'pre_cells_sorted', 'post_cells_sorted']]\n",
    "    )\n",
    "\n",
    "assert len(score_sample_df.groupby(['name', 'library'])) == len(score_sample_df)\n",
    "\n",
    "print(f\"Writing samples used to compute escape scores to {config['escape_score_samples_Omicron_BA2']}\\n\")\n",
    "score_sample_df.to_csv(config['escape_score_samples_Omicron_BA2'], index=False)\n",
    "\n",
    "display(HTML(score_sample_df.to_html(index=False)))"
   ]
  },
  {
   "cell_type": "markdown",
   "metadata": {},
   "source": [
    "Compute the escape scores for variants of the primary target and classify the variants:"
   ]
  },
  {
   "cell_type": "code",
   "execution_count": 23,
   "metadata": {},
   "outputs": [
    {
     "name": "stdout",
     "output_type": "stream",
     "text": [
      "Computing escape scores for Omicron_BA2 variants using frac_escape score type with a pseudocount of 0.5 and an escape fraction floor 0, an escape fraction ceiling 1, and grouping variants by barcode.\n",
      "Here are the first few lines of the resulting escape scores:\n"
     ]
    },
    {
     "data": {
      "text/html": [
       "<table border=\"1\" class=\"dataframe\">\n",
       "  <thead>\n",
       "    <tr style=\"text-align: right;\">\n",
       "      <th>name</th>\n",
       "      <th>target</th>\n",
       "      <th>library</th>\n",
       "      <th>pre_sample</th>\n",
       "      <th>post_sample</th>\n",
       "      <th>barcode</th>\n",
       "      <th>score</th>\n",
       "      <th>score_var</th>\n",
       "      <th>pre_count</th>\n",
       "      <th>post_count</th>\n",
       "      <th>codon_substitutions</th>\n",
       "      <th>n_codon_substitutions</th>\n",
       "      <th>aa_substitutions</th>\n",
       "      <th>n_aa_substitutions</th>\n",
       "      <th>variant_class</th>\n",
       "    </tr>\n",
       "  </thead>\n",
       "  <tbody>\n",
       "    <tr>\n",
       "      <td>C68_490_53</td>\n",
       "      <td>Omicron_BA2</td>\n",
       "      <td>lib24</td>\n",
       "      <td>exptREF3-none-0-ref</td>\n",
       "      <td>expt7-C68_490-53-abneg</td>\n",
       "      <td>GATGCCGGTGAGATAG</td>\n",
       "      <td>0.000062</td>\n",
       "      <td>7.645128e-09</td>\n",
       "      <td>5745</td>\n",
       "      <td>0</td>\n",
       "      <td>GTT115ATG</td>\n",
       "      <td>1</td>\n",
       "      <td>V115M</td>\n",
       "      <td>1</td>\n",
       "      <td>1 nonsynonymous</td>\n",
       "    </tr>\n",
       "    <tr>\n",
       "      <td>C68_490_53</td>\n",
       "      <td>Omicron_BA2</td>\n",
       "      <td>lib24</td>\n",
       "      <td>exptREF3-none-0-ref</td>\n",
       "      <td>expt7-C68_490-53-abneg</td>\n",
       "      <td>TATAAAGCACATGCAG</td>\n",
       "      <td>0.000063</td>\n",
       "      <td>7.823852e-09</td>\n",
       "      <td>5679</td>\n",
       "      <td>0</td>\n",
       "      <td>AAT13ATG</td>\n",
       "      <td>1</td>\n",
       "      <td>N13M</td>\n",
       "      <td>1</td>\n",
       "      <td>1 nonsynonymous</td>\n",
       "    </tr>\n",
       "    <tr>\n",
       "      <td>C68_490_53</td>\n",
       "      <td>Omicron_BA2</td>\n",
       "      <td>lib24</td>\n",
       "      <td>exptREF3-none-0-ref</td>\n",
       "      <td>expt7-C68_490-53-abneg</td>\n",
       "      <td>GTGTGGCCATATGAGA</td>\n",
       "      <td>0.000065</td>\n",
       "      <td>8.557817e-09</td>\n",
       "      <td>5430</td>\n",
       "      <td>0</td>\n",
       "      <td>TTG122ATG</td>\n",
       "      <td>1</td>\n",
       "      <td>L122M</td>\n",
       "      <td>1</td>\n",
       "      <td>1 nonsynonymous</td>\n",
       "    </tr>\n",
       "    <tr>\n",
       "      <td>C68_490_53</td>\n",
       "      <td>Omicron_BA2</td>\n",
       "      <td>lib24</td>\n",
       "      <td>exptREF3-none-0-ref</td>\n",
       "      <td>expt7-C68_490-53-abneg</td>\n",
       "      <td>CGGGCATGGCCCCGTA</td>\n",
       "      <td>0.037621</td>\n",
       "      <td>5.428598e-06</td>\n",
       "      <td>5183</td>\n",
       "      <td>274</td>\n",
       "      <td>GAT112CAT</td>\n",
       "      <td>1</td>\n",
       "      <td>D112H</td>\n",
       "      <td>1</td>\n",
       "      <td>1 nonsynonymous</td>\n",
       "    </tr>\n",
       "    <tr>\n",
       "      <td>C68_490_53</td>\n",
       "      <td>Omicron_BA2</td>\n",
       "      <td>lib24</td>\n",
       "      <td>exptREF3-none-0-ref</td>\n",
       "      <td>expt7-C68_490-53-abneg</td>\n",
       "      <td>AGTGGAGCCGCCAAAC</td>\n",
       "      <td>0.000070</td>\n",
       "      <td>9.886281e-09</td>\n",
       "      <td>5052</td>\n",
       "      <td>0</td>\n",
       "      <td>GTT32ATT</td>\n",
       "      <td>1</td>\n",
       "      <td>V32I</td>\n",
       "      <td>1</td>\n",
       "      <td>1 nonsynonymous</td>\n",
       "    </tr>\n",
       "  </tbody>\n",
       "</table>"
      ],
      "text/plain": [
       "<IPython.core.display.HTML object>"
      ]
     },
     "metadata": {},
     "output_type": "display_data"
    }
   ],
   "source": [
    "print(f\"Computing escape scores for {primary_target} variants using {config['escape_score_type']} \"\n",
    "      f\"score type with a pseudocount of {config['escape_score_pseudocount']} and \"\n",
    "      f\"an escape fraction floor {config['escape_score_floor_E']}, an escape fraction ceiling \"\n",
    "      f\"{config['escape_score_ceil_E']}, and grouping variants by {config['escape_score_group_by']}.\")\n",
    "\n",
    "escape_scores = (variants.escape_scores(score_sample_df,\n",
    "                                        score_type=config['escape_score_type'],\n",
    "                                        pseudocount=config['escape_score_pseudocount'],\n",
    "                                        floor_E=config['escape_score_floor_E'],\n",
    "                                        ceil_E=config['escape_score_ceil_E'],\n",
    "                                        by=config['escape_score_group_by'],\n",
    "                                        )\n",
    "                 .query('target == @primary_target')\n",
    "                 .pipe(variants.classifyVariants,\n",
    "                       primary_target=variants.primary_target,\n",
    "                       syn_as_wt=(config['escape_score_group_by'] == 'aa_substitutions'),\n",
    "                       )\n",
    "                 )\n",
    "print('Here are the first few lines of the resulting escape scores:')\n",
    "display(HTML(escape_scores.head().to_html(index=False)))"
   ]
  },
  {
   "cell_type": "markdown",
   "metadata": {},
   "source": [
    "## Apply pre-selection count filter to variant escape scores\n",
    "Now determine a pre-selection count filter in order to flag for removal variants with counts that are so low that the estimated score is probably noise.\n",
    "We know that stop codons should be largely purged pre-selection, and so the counts for them are a good indication of the \"noise\" threshold.\n",
    "We therefore set the filter using the number of pre-selection counts for the stop codons.\n",
    "\n",
    "To do this, we first compute the number of pre-selection counts for stop-codon variants at various quantiles and look at these.\n",
    "We then take the number of pre-selection counts at the specified quantile as the filter cutoff, and filter scores for all variants with pre-selection counts less than this filter cutoff:\n",
    "\n",
    "NOTE, since we didn't pre-sort this library, this is not the appropriate method. This has historically beena round 100, so we'll just apply a filter of 100."
   ]
  },
  {
   "cell_type": "code",
   "execution_count": 24,
   "metadata": {},
   "outputs": [
    {
     "name": "stdout",
     "output_type": "stream",
     "text": [
      "\n",
      "Setting the pre-count filter cutoff to the absolute value of 100\n"
     ]
    }
   ],
   "source": [
    "filter_precount = config['escape_score_precount_filter']\n",
    "\n",
    "print(f\"\\nSetting the pre-count filter cutoff to the absolute value of {config['escape_score_precount_filter']}\")"
   ]
  },
  {
   "cell_type": "markdown",
   "metadata": {},
   "source": [
    "Apply the filter to the escape scores, so that scores that fail the pre-selection count filter are now marked with `pass_pre_count_filter` of `False`:"
   ]
  },
  {
   "cell_type": "code",
   "execution_count": 25,
   "metadata": {},
   "outputs": [
    {
     "data": {
      "text/html": [
       "<div>\n",
       "<style scoped>\n",
       "    .dataframe tbody tr th:only-of-type {\n",
       "        vertical-align: middle;\n",
       "    }\n",
       "\n",
       "    .dataframe tbody tr th {\n",
       "        vertical-align: top;\n",
       "    }\n",
       "\n",
       "    .dataframe thead th {\n",
       "        text-align: right;\n",
       "    }\n",
       "</style>\n",
       "<table border=\"1\" class=\"dataframe\">\n",
       "  <thead>\n",
       "    <tr style=\"text-align: right;\">\n",
       "      <th></th>\n",
       "      <th>name</th>\n",
       "      <th>target</th>\n",
       "      <th>library</th>\n",
       "      <th>pre_sample</th>\n",
       "      <th>post_sample</th>\n",
       "      <th>barcode</th>\n",
       "      <th>score</th>\n",
       "      <th>score_var</th>\n",
       "      <th>pre_count</th>\n",
       "      <th>post_count</th>\n",
       "      <th>codon_substitutions</th>\n",
       "      <th>n_codon_substitutions</th>\n",
       "      <th>aa_substitutions</th>\n",
       "      <th>n_aa_substitutions</th>\n",
       "      <th>variant_class</th>\n",
       "      <th>pass_pre_count_filter</th>\n",
       "    </tr>\n",
       "  </thead>\n",
       "  <tbody>\n",
       "    <tr>\n",
       "      <th>0</th>\n",
       "      <td>C68_490_53</td>\n",
       "      <td>Omicron_BA2</td>\n",
       "      <td>lib24</td>\n",
       "      <td>exptREF3-none-0-ref</td>\n",
       "      <td>expt7-C68_490-53-abneg</td>\n",
       "      <td>GATGCCGGTGAGATAG</td>\n",
       "      <td>0.000062</td>\n",
       "      <td>7.645128e-09</td>\n",
       "      <td>5745</td>\n",
       "      <td>0</td>\n",
       "      <td>GTT115ATG</td>\n",
       "      <td>1</td>\n",
       "      <td>V115M</td>\n",
       "      <td>1</td>\n",
       "      <td>1 nonsynonymous</td>\n",
       "      <td>True</td>\n",
       "    </tr>\n",
       "    <tr>\n",
       "      <th>1</th>\n",
       "      <td>C68_490_53</td>\n",
       "      <td>Omicron_BA2</td>\n",
       "      <td>lib24</td>\n",
       "      <td>exptREF3-none-0-ref</td>\n",
       "      <td>expt7-C68_490-53-abneg</td>\n",
       "      <td>TATAAAGCACATGCAG</td>\n",
       "      <td>0.000063</td>\n",
       "      <td>7.823852e-09</td>\n",
       "      <td>5679</td>\n",
       "      <td>0</td>\n",
       "      <td>AAT13ATG</td>\n",
       "      <td>1</td>\n",
       "      <td>N13M</td>\n",
       "      <td>1</td>\n",
       "      <td>1 nonsynonymous</td>\n",
       "      <td>True</td>\n",
       "    </tr>\n",
       "    <tr>\n",
       "      <th>2</th>\n",
       "      <td>C68_490_53</td>\n",
       "      <td>Omicron_BA2</td>\n",
       "      <td>lib24</td>\n",
       "      <td>exptREF3-none-0-ref</td>\n",
       "      <td>expt7-C68_490-53-abneg</td>\n",
       "      <td>GTGTGGCCATATGAGA</td>\n",
       "      <td>0.000065</td>\n",
       "      <td>8.557817e-09</td>\n",
       "      <td>5430</td>\n",
       "      <td>0</td>\n",
       "      <td>TTG122ATG</td>\n",
       "      <td>1</td>\n",
       "      <td>L122M</td>\n",
       "      <td>1</td>\n",
       "      <td>1 nonsynonymous</td>\n",
       "      <td>True</td>\n",
       "    </tr>\n",
       "    <tr>\n",
       "      <th>3</th>\n",
       "      <td>C68_490_53</td>\n",
       "      <td>Omicron_BA2</td>\n",
       "      <td>lib24</td>\n",
       "      <td>exptREF3-none-0-ref</td>\n",
       "      <td>expt7-C68_490-53-abneg</td>\n",
       "      <td>CGGGCATGGCCCCGTA</td>\n",
       "      <td>0.037621</td>\n",
       "      <td>5.428598e-06</td>\n",
       "      <td>5183</td>\n",
       "      <td>274</td>\n",
       "      <td>GAT112CAT</td>\n",
       "      <td>1</td>\n",
       "      <td>D112H</td>\n",
       "      <td>1</td>\n",
       "      <td>1 nonsynonymous</td>\n",
       "      <td>True</td>\n",
       "    </tr>\n",
       "    <tr>\n",
       "      <th>4</th>\n",
       "      <td>C68_490_53</td>\n",
       "      <td>Omicron_BA2</td>\n",
       "      <td>lib24</td>\n",
       "      <td>exptREF3-none-0-ref</td>\n",
       "      <td>expt7-C68_490-53-abneg</td>\n",
       "      <td>AGTGGAGCCGCCAAAC</td>\n",
       "      <td>0.000070</td>\n",
       "      <td>9.886281e-09</td>\n",
       "      <td>5052</td>\n",
       "      <td>0</td>\n",
       "      <td>GTT32ATT</td>\n",
       "      <td>1</td>\n",
       "      <td>V32I</td>\n",
       "      <td>1</td>\n",
       "      <td>1 nonsynonymous</td>\n",
       "      <td>True</td>\n",
       "    </tr>\n",
       "  </tbody>\n",
       "</table>\n",
       "</div>"
      ],
      "text/plain": [
       "         name       target library           pre_sample  \\\n",
       "0  C68_490_53  Omicron_BA2   lib24  exptREF3-none-0-ref   \n",
       "1  C68_490_53  Omicron_BA2   lib24  exptREF3-none-0-ref   \n",
       "2  C68_490_53  Omicron_BA2   lib24  exptREF3-none-0-ref   \n",
       "3  C68_490_53  Omicron_BA2   lib24  exptREF3-none-0-ref   \n",
       "4  C68_490_53  Omicron_BA2   lib24  exptREF3-none-0-ref   \n",
       "\n",
       "              post_sample           barcode     score     score_var  \\\n",
       "0  expt7-C68_490-53-abneg  GATGCCGGTGAGATAG  0.000062  7.645128e-09   \n",
       "1  expt7-C68_490-53-abneg  TATAAAGCACATGCAG  0.000063  7.823852e-09   \n",
       "2  expt7-C68_490-53-abneg  GTGTGGCCATATGAGA  0.000065  8.557817e-09   \n",
       "3  expt7-C68_490-53-abneg  CGGGCATGGCCCCGTA  0.037621  5.428598e-06   \n",
       "4  expt7-C68_490-53-abneg  AGTGGAGCCGCCAAAC  0.000070  9.886281e-09   \n",
       "\n",
       "   pre_count  post_count codon_substitutions  n_codon_substitutions  \\\n",
       "0       5745           0           GTT115ATG                      1   \n",
       "1       5679           0            AAT13ATG                      1   \n",
       "2       5430           0           TTG122ATG                      1   \n",
       "3       5183         274           GAT112CAT                      1   \n",
       "4       5052           0            GTT32ATT                      1   \n",
       "\n",
       "  aa_substitutions  n_aa_substitutions    variant_class  pass_pre_count_filter  \n",
       "0            V115M                   1  1 nonsynonymous                   True  \n",
       "1             N13M                   1  1 nonsynonymous                   True  \n",
       "2            L122M                   1  1 nonsynonymous                   True  \n",
       "3            D112H                   1  1 nonsynonymous                   True  \n",
       "4             V32I                   1  1 nonsynonymous                   True  "
      ]
     },
     "execution_count": 25,
     "metadata": {},
     "output_type": "execute_result"
    }
   ],
   "source": [
    "escape_scores = (\n",
    "    escape_scores\n",
    "    .assign(pass_pre_count_filter=lambda x: x['pre_count'] >= config['escape_score_precount_filter'])\n",
    "    )\n",
    "escape_scores.head()"
   ]
  },
  {
   "cell_type": "markdown",
   "metadata": {},
   "source": [
    "## Apply ACE2-binding / expression filter to variant mutations\n",
    "We also used deep mutational scanning to estimate how each mutation affected ACE2 binding and expression in the B.1.351 background.\n",
    "Here we flag for removal any variants of the primary target that have (or have mutations) that were measured to decrease ACE2-binding or expression beyond a minimal threshold, in order to avoid these variants muddying the signal as spurious escape mutants.\n",
    "\n",
    "To do this, we first determine all mutations that do / do-not having binding that exceeds the thresholds.\n",
    "\n",
    "Note that because we are working on this serum-mapping project at the same time as we are working on the ACE2-binding / RBD-expression project, the scores will be preliminary until all final analyses have been done on the DMS project end. So, we will allow either preliminary or \"final\" measurements to be used. "
   ]
  },
  {
   "cell_type": "code",
   "execution_count": 26,
   "metadata": {},
   "outputs": [
    {
     "name": "stdout",
     "output_type": "stream",
     "text": [
      "Reading ACE2-binding and expression for mutations from results/prior_DMS_data/mutant_ACE2binding_expression.csv, and filtering for variants that have single mutations that only have mutations with binding >=-2.0 and expression >=-0.95489.\n",
      "Here is what that dataframe looks like:\n"
     ]
    },
    {
     "data": {
      "text/html": [
       "<table border=\"1\" class=\"dataframe\">\n",
       "  <thead>\n",
       "    <tr style=\"text-align: right;\">\n",
       "      <th>target</th>\n",
       "      <th>wildtype</th>\n",
       "      <th>position</th>\n",
       "      <th>mutant</th>\n",
       "      <th>mutation</th>\n",
       "      <th>bind</th>\n",
       "      <th>delta_bind</th>\n",
       "      <th>n_bc_bind</th>\n",
       "      <th>n_libs_bind</th>\n",
       "      <th>bind_rep1</th>\n",
       "      <th>bind_rep2</th>\n",
       "      <th>bind_rep3</th>\n",
       "      <th>expr</th>\n",
       "      <th>delta_expr</th>\n",
       "      <th>n_bc_expr</th>\n",
       "      <th>n_libs_expr</th>\n",
       "      <th>expr_rep1</th>\n",
       "      <th>expr_rep2</th>\n",
       "      <th>RBD_site</th>\n",
       "      <th>RBD_mutation</th>\n",
       "    </tr>\n",
       "  </thead>\n",
       "  <tbody>\n",
       "    <tr>\n",
       "      <td>Omicron_BA2</td>\n",
       "      <td>N</td>\n",
       "      <td>331</td>\n",
       "      <td>A</td>\n",
       "      <td>N331A</td>\n",
       "      <td>9.17210</td>\n",
       "      <td>-0.08339</td>\n",
       "      <td>26</td>\n",
       "      <td>2</td>\n",
       "      <td>9.23295</td>\n",
       "      <td>9.11126</td>\n",
       "      <td>NaN</td>\n",
       "      <td>9.22828</td>\n",
       "      <td>-0.62526</td>\n",
       "      <td>32</td>\n",
       "      <td>2</td>\n",
       "      <td>9.15459</td>\n",
       "      <td>9.30197</td>\n",
       "      <td>1</td>\n",
       "      <td>N1A</td>\n",
       "    </tr>\n",
       "    <tr>\n",
       "      <td>Omicron_BA2</td>\n",
       "      <td>N</td>\n",
       "      <td>331</td>\n",
       "      <td>C</td>\n",
       "      <td>N331C</td>\n",
       "      <td>8.63925</td>\n",
       "      <td>-0.61624</td>\n",
       "      <td>33</td>\n",
       "      <td>2</td>\n",
       "      <td>8.68102</td>\n",
       "      <td>8.59748</td>\n",
       "      <td>NaN</td>\n",
       "      <td>8.66371</td>\n",
       "      <td>-1.18984</td>\n",
       "      <td>39</td>\n",
       "      <td>2</td>\n",
       "      <td>8.63127</td>\n",
       "      <td>8.69614</td>\n",
       "      <td>1</td>\n",
       "      <td>N1C</td>\n",
       "    </tr>\n",
       "    <tr>\n",
       "      <td>Omicron_BA2</td>\n",
       "      <td>N</td>\n",
       "      <td>331</td>\n",
       "      <td>D</td>\n",
       "      <td>N331D</td>\n",
       "      <td>9.10879</td>\n",
       "      <td>-0.14670</td>\n",
       "      <td>38</td>\n",
       "      <td>2</td>\n",
       "      <td>9.11699</td>\n",
       "      <td>9.10059</td>\n",
       "      <td>NaN</td>\n",
       "      <td>9.32061</td>\n",
       "      <td>-0.53294</td>\n",
       "      <td>43</td>\n",
       "      <td>2</td>\n",
       "      <td>9.27770</td>\n",
       "      <td>9.36352</td>\n",
       "      <td>1</td>\n",
       "      <td>N1D</td>\n",
       "    </tr>\n",
       "    <tr>\n",
       "      <td>Omicron_BA2</td>\n",
       "      <td>N</td>\n",
       "      <td>331</td>\n",
       "      <td>E</td>\n",
       "      <td>N331E</td>\n",
       "      <td>9.11403</td>\n",
       "      <td>-0.14146</td>\n",
       "      <td>30</td>\n",
       "      <td>2</td>\n",
       "      <td>9.07885</td>\n",
       "      <td>9.14922</td>\n",
       "      <td>NaN</td>\n",
       "      <td>9.47636</td>\n",
       "      <td>-0.37718</td>\n",
       "      <td>36</td>\n",
       "      <td>2</td>\n",
       "      <td>9.50957</td>\n",
       "      <td>9.44315</td>\n",
       "      <td>1</td>\n",
       "      <td>N1E</td>\n",
       "    </tr>\n",
       "    <tr>\n",
       "      <td>Omicron_BA2</td>\n",
       "      <td>N</td>\n",
       "      <td>331</td>\n",
       "      <td>F</td>\n",
       "      <td>N331F</td>\n",
       "      <td>8.71945</td>\n",
       "      <td>-0.53604</td>\n",
       "      <td>31</td>\n",
       "      <td>2</td>\n",
       "      <td>8.80971</td>\n",
       "      <td>8.62919</td>\n",
       "      <td>NaN</td>\n",
       "      <td>8.73004</td>\n",
       "      <td>-1.12351</td>\n",
       "      <td>40</td>\n",
       "      <td>2</td>\n",
       "      <td>8.70372</td>\n",
       "      <td>8.75636</td>\n",
       "      <td>1</td>\n",
       "      <td>N1F</td>\n",
       "    </tr>\n",
       "  </tbody>\n",
       "</table>"
      ],
      "text/plain": [
       "<IPython.core.display.HTML object>"
      ]
     },
     "metadata": {},
     "output_type": "display_data"
    }
   ],
   "source": [
    "mut_bind_expr_file = config['mut_bind_expr']\n",
    "    \n",
    "print(f\"Reading ACE2-binding and expression for mutations from {mut_bind_expr_file}, \"\n",
    "      f\"and filtering for variants that have single mutations that \"\n",
    "      f\"only have mutations with binding >={config['escape_score_min_bind_mut_Omicron_BA2']} and \"\n",
    "      f\"expression >={config['escape_score_min_expr_mut_Omicron_BA2']}.\")\n",
    "\n",
    "mut_bind_expr = (pd.read_csv(mut_bind_expr_file)\n",
    "                 .query(\"target == 'Omicron_BA2'\")\n",
    "                 # need to add back the offset numbering for some silly, circuitous reason \n",
    "                 .assign(RBD_site=lambda x: x['position']-config['site_number_offset'] ,\n",
    "                         RBD_mutation=lambda x: x['wildtype']+x['RBD_site'].astype(str)+x['mutant']\n",
    "                        )\n",
    "                )\n",
    "\n",
    "print('Here is what that dataframe looks like:')\n",
    "\n",
    "display(HTML(mut_bind_expr.query('delta_bind > -2.5').head().to_html(index=False)))"
   ]
  },
  {
   "cell_type": "code",
   "execution_count": 27,
   "metadata": {},
   "outputs": [
    {
     "name": "stdout",
     "output_type": "stream",
     "text": [
      "3375 of 4020 mutations have adequate bind.\n",
      "2385 of 4020 mutations have adequate expr.\n"
     ]
    },
    {
     "data": {
      "text/html": [
       "<table border=\"1\" class=\"dataframe\">\n",
       "  <thead>\n",
       "    <tr style=\"text-align: right;\">\n",
       "      <th>name</th>\n",
       "      <th>target</th>\n",
       "      <th>library</th>\n",
       "      <th>pre_sample</th>\n",
       "      <th>post_sample</th>\n",
       "      <th>barcode</th>\n",
       "      <th>score</th>\n",
       "      <th>score_var</th>\n",
       "      <th>pre_count</th>\n",
       "      <th>post_count</th>\n",
       "      <th>codon_substitutions</th>\n",
       "      <th>n_codon_substitutions</th>\n",
       "      <th>aa_substitutions</th>\n",
       "      <th>n_aa_substitutions</th>\n",
       "      <th>variant_class</th>\n",
       "      <th>pass_pre_count_filter</th>\n",
       "      <th>muts_pass_bind_filter</th>\n",
       "      <th>muts_pass_expr_filter</th>\n",
       "      <th>pass_ACE2bind_expr_filter</th>\n",
       "    </tr>\n",
       "  </thead>\n",
       "  <tbody>\n",
       "    <tr>\n",
       "      <td>C68_490_53</td>\n",
       "      <td>Omicron_BA2</td>\n",
       "      <td>lib24</td>\n",
       "      <td>exptREF3-none-0-ref</td>\n",
       "      <td>expt7-C68_490-53-abneg</td>\n",
       "      <td>TATAAAGCACATGCAG</td>\n",
       "      <td>0.000063</td>\n",
       "      <td>7.823852e-09</td>\n",
       "      <td>5679</td>\n",
       "      <td>0</td>\n",
       "      <td>AAT13ATG</td>\n",
       "      <td>1</td>\n",
       "      <td>N13M</td>\n",
       "      <td>1</td>\n",
       "      <td>1 nonsynonymous</td>\n",
       "      <td>True</td>\n",
       "      <td>True</td>\n",
       "      <td>False</td>\n",
       "      <td>False</td>\n",
       "    </tr>\n",
       "    <tr>\n",
       "      <td>C68_490_53</td>\n",
       "      <td>Omicron_BA2</td>\n",
       "      <td>lib24</td>\n",
       "      <td>exptREF3-none-0-ref</td>\n",
       "      <td>expt7-C68_490-53-abneg</td>\n",
       "      <td>CGGGCATGGCCCCGTA</td>\n",
       "      <td>0.037621</td>\n",
       "      <td>5.428598e-06</td>\n",
       "      <td>5183</td>\n",
       "      <td>274</td>\n",
       "      <td>GAT112CAT</td>\n",
       "      <td>1</td>\n",
       "      <td>D112H</td>\n",
       "      <td>1</td>\n",
       "      <td>1 nonsynonymous</td>\n",
       "      <td>True</td>\n",
       "      <td>False</td>\n",
       "      <td>False</td>\n",
       "      <td>False</td>\n",
       "    </tr>\n",
       "    <tr>\n",
       "      <td>C68_490_53</td>\n",
       "      <td>Omicron_BA2</td>\n",
       "      <td>lib24</td>\n",
       "      <td>exptREF3-none-0-ref</td>\n",
       "      <td>expt7-C68_490-53-abneg</td>\n",
       "      <td>TTAGAGCGCTGGCCGT</td>\n",
       "      <td>0.000073</td>\n",
       "      <td>1.064335e-08</td>\n",
       "      <td>4869</td>\n",
       "      <td>0</td>\n",
       "      <td>GTT11ATG</td>\n",
       "      <td>1</td>\n",
       "      <td>V11M</td>\n",
       "      <td>1</td>\n",
       "      <td>1 nonsynonymous</td>\n",
       "      <td>True</td>\n",
       "      <td>True</td>\n",
       "      <td>False</td>\n",
       "      <td>False</td>\n",
       "    </tr>\n",
       "    <tr>\n",
       "      <td>C68_490_53</td>\n",
       "      <td>Omicron_BA2</td>\n",
       "      <td>lib24</td>\n",
       "      <td>exptREF3-none-0-ref</td>\n",
       "      <td>expt7-C68_490-53-abneg</td>\n",
       "      <td>CATAATGCTTACATGC</td>\n",
       "      <td>0.000954</td>\n",
       "      <td>1.401418e-07</td>\n",
       "      <td>4841</td>\n",
       "      <td>6</td>\n",
       "      <td>TCT19AAA</td>\n",
       "      <td>1</td>\n",
       "      <td>S19K</td>\n",
       "      <td>1</td>\n",
       "      <td>1 nonsynonymous</td>\n",
       "      <td>True</td>\n",
       "      <td>True</td>\n",
       "      <td>False</td>\n",
       "      <td>False</td>\n",
       "    </tr>\n",
       "    <tr>\n",
       "      <td>C68_490_53</td>\n",
       "      <td>Omicron_BA2</td>\n",
       "      <td>lib24</td>\n",
       "      <td>exptREF3-none-0-ref</td>\n",
       "      <td>expt7-C68_490-53-abneg</td>\n",
       "      <td>AATCGAATCGAAGTTC</td>\n",
       "      <td>0.000079</td>\n",
       "      <td>1.257743e-08</td>\n",
       "      <td>4479</td>\n",
       "      <td>0</td>\n",
       "      <td>GGT155ATT</td>\n",
       "      <td>1</td>\n",
       "      <td>G155I</td>\n",
       "      <td>1</td>\n",
       "      <td>1 nonsynonymous</td>\n",
       "      <td>True</td>\n",
       "      <td>True</td>\n",
       "      <td>False</td>\n",
       "      <td>False</td>\n",
       "    </tr>\n",
       "  </tbody>\n",
       "</table>"
      ],
      "text/plain": [
       "<IPython.core.display.HTML object>"
      ]
     },
     "metadata": {},
     "output_type": "display_data"
    }
   ],
   "source": [
    "assert mut_bind_expr['RBD_mutation'].nunique() == len(mut_bind_expr)\n",
    "for prop in ['bind', 'expr']:\n",
    "    muts_adequate = set(mut_bind_expr\n",
    "                        .query(f\"delta_{prop} >= {config[f'escape_score_min_{prop}_mut_Omicron_BA2']}\")\n",
    "                        ['RBD_mutation']\n",
    "                        )\n",
    "    print(f\"{len(muts_adequate)} of {len(mut_bind_expr)} mutations have adequate {prop}.\")\n",
    "    escape_scores[f\"muts_pass_{prop}_filter\"] = (\n",
    "        escape_scores\n",
    "        ['aa_substitutions']\n",
    "        .map(lambda s: set(s.split()).issubset(muts_adequate))\n",
    "        )\n",
    "\n",
    "# annotate as passing overall filter if passes all mutation and binding filters:\n",
    "escape_scores['pass_ACE2bind_expr_filter'] = (\n",
    "        escape_scores['muts_pass_bind_filter'] &\n",
    "        escape_scores['muts_pass_expr_filter'] \n",
    "        )\n",
    "\n",
    "display(HTML(escape_scores.query('not pass_ACE2bind_expr_filter & variant_class != \"stop\"').head().to_html(index=False)))"
   ]
  },
  {
   "cell_type": "markdown",
   "metadata": {},
   "source": [
    "Print the number of mutations that pass RBD bind, RBD expression, and are not to sites that are disulfide bonds (if specified in config) "
   ]
  },
  {
   "cell_type": "code",
   "execution_count": 28,
   "metadata": {},
   "outputs": [
    {
     "name": "stdout",
     "output_type": "stream",
     "text": [
      "Here are the number of mutations that pass the bind, express, and disulfide filters:\n",
      "2217\n",
      "There are these many possible mutations (excluding wildtype and disulfides!):\n",
      "3667\n"
     ]
    }
   ],
   "source": [
    "# if we are excluding all cysteines to remove spurious mutations that break disulfide bonds:\n",
    "if config['exclude_cysteines']:\n",
    "    print(\"Here are the number of mutations that pass the bind, express, and disulfide filters:\")\n",
    "    print(len(mut_bind_expr\n",
    "              .assign(pass_cysteine_filter=lambda x: x['mutation'].str[0] != \"C\")\n",
    "              .query(f\"delta_bind >= {config[f'escape_score_min_bind_mut_Omicron_BA2']} & \\\n",
    "                       delta_expr >= {config[f'escape_score_min_expr_mut_Omicron_BA2']} & \\\n",
    "                       pass_cysteine_filter\")\n",
    "             ))\n",
    "    print(\"There are these many possible mutations (excluding wildtype and disulfides!):\")\n",
    "    print(mut_bind_expr.query('wildtype!=\"C\"')['position'].nunique()*19\n",
    "         )\n",
    "\n",
    "else:\n",
    "    print(\"Here are the number of mutations that pass the bind and express filters:\")\n",
    "    print(len(mut_bind_expr\n",
    "              .assign(pass_cysteine_filter=lambda x: x['mutation'].str[0] != \"C\")\n",
    "              .query(f\"delta_bind >= {config[f'escape_score_min_bind_mut_Omicron_BA2']} & \\\n",
    "                       delta_expr >= {config[f'escape_score_min_expr_mut_Omicron_BA2']}\")\n",
    "             ))\n",
    "    print(\"There are these many possible mutations (excluding wildtype!):\")\n",
    "    print(mut_bind_expr['position'].nunique()*19\n",
    "         )"
   ]
  },
  {
   "cell_type": "code",
   "execution_count": 29,
   "metadata": {},
   "outputs": [
    {
     "name": "stdout",
     "output_type": "stream",
     "text": [
      "These are the sites that are involved in disulfide bonds:\n",
      "[336 361 379 391 432 480 488 525]\n"
     ]
    }
   ],
   "source": [
    "print('These are the sites that are involved in disulfide bonds:')\n",
    "print(mut_bind_expr.query('wildtype==\"C\"')['position'].unique())"
   ]
  },
  {
   "cell_type": "code",
   "execution_count": 30,
   "metadata": {},
   "outputs": [],
   "source": [
    "frac_ACE2bind_expr_pass_filter = (\n",
    "    escape_scores\n",
    "    .query('pass_pre_count_filter == True')\n",
    "    [['pre_sample', 'library', 'target', config['escape_score_group_by'],\n",
    "      'pre_count', 'pass_ACE2bind_expr_filter', 'variant_class']]\n",
    "    .drop_duplicates()\n",
    "    .groupby(['pre_sample', 'library', 'variant_class'], observed=True)\n",
    "    .aggregate(n_variants=pd.NamedAgg('pass_ACE2bind_expr_filter', 'count'),\n",
    "               n_pass_filter=pd.NamedAgg('pass_ACE2bind_expr_filter', 'sum')\n",
    "               )\n",
    "    .reset_index()\n",
    "    .assign(frac_pass_filter=lambda x: x['n_pass_filter'] / x['n_variants'],\n",
    "            pre_sample=lambda x: pd.Categorical(x['pre_sample'], x['pre_sample'].unique(), ordered=True).remove_unused_categories())\n",
    "    )\n",
    "\n",
    "p = (ggplot(frac_ACE2bind_expr_pass_filter) +\n",
    "     aes('variant_class', 'frac_pass_filter', fill='variant_class') +\n",
    "     geom_bar(stat='identity') +\n",
    "     facet_grid('library ~ pre_sample') +\n",
    "     theme(axis_text_x=element_text(angle=90),\n",
    "           figure_size=(3.3 * frac_ACE2bind_expr_pass_filter['pre_sample'].nunique(),\n",
    "                        2 * frac_ACE2bind_expr_pass_filter['library'].nunique()),\n",
    "           panel_grid_major_x=element_blank(),\n",
    "           ) +\n",
    "     scale_fill_manual(values=CBPALETTE[1:]) +\n",
    "     expand_limits(y=(0, 1))\n",
    "     )\n",
    "\n",
    "_ = p.draw()"
   ]
  },
  {
   "cell_type": "markdown",
   "metadata": {},
   "source": [
    "## Examine and write escape scores\n",
    "Plot the distribution of escape scores across variants of different classes **among those that pass both the pre-selection count filter and the ACE2-binding / expression filter**.\n",
    "If things are working correctly, we don't expect escape in wildtype (or synonymous variants), but do expect escape for some small fraction of nonsynymous variants.\n",
    "Also, we do not plot the scores for the stop codon variant class, as most stop-codon variants have already been filtered out so this category is largely noise:"
   ]
  },
  {
   "cell_type": "code",
   "execution_count": 31,
   "metadata": {},
   "outputs": [],
   "source": [
    "nfacets = len(escape_scores.groupby(['library', 'name']).nunique())\n",
    "ncol = min(8, nfacets)\n",
    "nrow = math.ceil(nfacets / ncol)\n",
    "\n",
    "df = (escape_scores\n",
    "      .query('(pass_pre_count_filter == True) & (pass_ACE2bind_expr_filter == True)')\n",
    "      .query('variant_class != \"stop\"')\n",
    "      )\n",
    "     \n",
    "p = (ggplot(df) +\n",
    "     aes('variant_class', 'score', color='variant_class') +\n",
    "     geom_boxplot(outlier_size=1.5, outlier_alpha=0.1) +\n",
    "     facet_wrap('~ name + library', ncol=ncol) +\n",
    "     theme(axis_text_x=element_text(angle=90),\n",
    "           figure_size=(2.35 * ncol, 3 * nrow),\n",
    "           panel_grid_major_x=element_blank(),\n",
    "           ) +\n",
    "     scale_fill_manual(values=CBPALETTE[1:]) +\n",
    "     scale_color_manual(values=CBPALETTE[1:])\n",
    "     )\n",
    "\n",
    "_ = p.draw()"
   ]
  },
  {
   "cell_type": "markdown",
   "metadata": {},
   "source": [
    "Also, we want to see how much the high escape scores are correlated with simple coverage.\n",
    "To do this, we plot the correlation between escape score and pre-selection count just for the nonsynonymous variants (which are the ones that we expect to have true escape).\n",
    "The plots below have a lot of overplotting, but are still sufficient to test of the score is simply correlated with the pre-selection counts or not.\n",
    "The hoped for result is that the escape score doesn't appear to be strongly correlated with pre-selection counts:"
   ]
  },
  {
   "cell_type": "code",
   "execution_count": 32,
   "metadata": {},
   "outputs": [],
   "source": [
    "p = (ggplot(escape_scores\n",
    "            .query('pass_pre_count_filter == True')\n",
    "            .query('(pass_pre_count_filter == True) & (pass_ACE2bind_expr_filter == True)')\n",
    "            .query('variant_class==\"1 nonsynonymous\"')\n",
    "            ) +\n",
    "     aes('pre_count', 'score') +\n",
    "     geom_point(alpha=0.1, size=1) +\n",
    "     facet_wrap('~ name + library', ncol=ncol) +\n",
    "     theme(axis_text_x=element_text(angle=90),\n",
    "           figure_size=(2.35 * ncol, 2.35 * nrow),\n",
    "           ) +\n",
    "     scale_fill_manual(values=CBPALETTE[1:]) +\n",
    "     scale_color_manual(values=CBPALETTE[1:]) +\n",
    "     scale_x_log10()\n",
    "     )\n",
    "\n",
    "_ = p.draw()"
   ]
  },
  {
   "cell_type": "markdown",
   "metadata": {},
   "source": [
    "Write the escape scores to a file:"
   ]
  },
  {
   "cell_type": "code",
   "execution_count": 33,
   "metadata": {},
   "outputs": [
    {
     "name": "stdout",
     "output_type": "stream",
     "text": [
      "Writing escape scores for Omicron_BA2 SSM to results/escape_scores/scores_Omicron_BA2.csv\n"
     ]
    }
   ],
   "source": [
    "print(f\"Writing escape scores for Omicron_BA2 SSM to {config['escape_scores_Omicron_BA2']}\")\n",
    "escape_scores.to_csv(config['escape_scores_Omicron_BA2'], index=False, float_format='%.4g')"
   ]
  },
  {
   "cell_type": "markdown",
   "metadata": {},
   "source": [
    "### Now we will also remove anything that did not pass all the filters above. "
   ]
  },
  {
   "cell_type": "code",
   "execution_count": 34,
   "metadata": {},
   "outputs": [
    {
     "data": {
      "text/html": [
       "<table border=\"1\" class=\"dataframe\">\n",
       "  <thead>\n",
       "    <tr style=\"text-align: right;\">\n",
       "      <th></th>\n",
       "      <th>name</th>\n",
       "      <th>target</th>\n",
       "      <th>library</th>\n",
       "      <th>pre_sample</th>\n",
       "      <th>post_sample</th>\n",
       "      <th>barcode</th>\n",
       "      <th>score</th>\n",
       "      <th>score_var</th>\n",
       "      <th>pre_count</th>\n",
       "      <th>post_count</th>\n",
       "      <th>codon_substitutions</th>\n",
       "      <th>n_codon_substitutions</th>\n",
       "      <th>aa_substitutions</th>\n",
       "      <th>n_aa_substitutions</th>\n",
       "      <th>variant_class</th>\n",
       "      <th>pass_pre_count_filter</th>\n",
       "      <th>muts_pass_bind_filter</th>\n",
       "      <th>muts_pass_expr_filter</th>\n",
       "      <th>pass_ACE2bind_expr_filter</th>\n",
       "    </tr>\n",
       "  </thead>\n",
       "  <tbody>\n",
       "    <tr>\n",
       "      <th>0</th>\n",
       "      <td>C68_490_53</td>\n",
       "      <td>Omicron_BA2</td>\n",
       "      <td>lib24</td>\n",
       "      <td>exptREF3-none-0-ref</td>\n",
       "      <td>expt7-C68_490-53-abneg</td>\n",
       "      <td>GATGCCGGTGAGATAG</td>\n",
       "      <td>0.000062</td>\n",
       "      <td>7.645128e-09</td>\n",
       "      <td>5745</td>\n",
       "      <td>0</td>\n",
       "      <td>GTT115ATG</td>\n",
       "      <td>1</td>\n",
       "      <td>V115M</td>\n",
       "      <td>1</td>\n",
       "      <td>1 nonsynonymous</td>\n",
       "      <td>True</td>\n",
       "      <td>True</td>\n",
       "      <td>True</td>\n",
       "      <td>True</td>\n",
       "    </tr>\n",
       "    <tr>\n",
       "      <th>2</th>\n",
       "      <td>C68_490_53</td>\n",
       "      <td>Omicron_BA2</td>\n",
       "      <td>lib24</td>\n",
       "      <td>exptREF3-none-0-ref</td>\n",
       "      <td>expt7-C68_490-53-abneg</td>\n",
       "      <td>GTGTGGCCATATGAGA</td>\n",
       "      <td>0.000065</td>\n",
       "      <td>8.557817e-09</td>\n",
       "      <td>5430</td>\n",
       "      <td>0</td>\n",
       "      <td>TTG122ATG</td>\n",
       "      <td>1</td>\n",
       "      <td>L122M</td>\n",
       "      <td>1</td>\n",
       "      <td>1 nonsynonymous</td>\n",
       "      <td>True</td>\n",
       "      <td>True</td>\n",
       "      <td>True</td>\n",
       "      <td>True</td>\n",
       "    </tr>\n",
       "    <tr>\n",
       "      <th>4</th>\n",
       "      <td>C68_490_53</td>\n",
       "      <td>Omicron_BA2</td>\n",
       "      <td>lib24</td>\n",
       "      <td>exptREF3-none-0-ref</td>\n",
       "      <td>expt7-C68_490-53-abneg</td>\n",
       "      <td>AGTGGAGCCGCCAAAC</td>\n",
       "      <td>0.000070</td>\n",
       "      <td>9.886281e-09</td>\n",
       "      <td>5052</td>\n",
       "      <td>0</td>\n",
       "      <td>GTT32ATT</td>\n",
       "      <td>1</td>\n",
       "      <td>V32I</td>\n",
       "      <td>1</td>\n",
       "      <td>1 nonsynonymous</td>\n",
       "      <td>True</td>\n",
       "      <td>True</td>\n",
       "      <td>True</td>\n",
       "      <td>True</td>\n",
       "    </tr>\n",
       "    <tr>\n",
       "      <th>8</th>\n",
       "      <td>C68_490_53</td>\n",
       "      <td>Omicron_BA2</td>\n",
       "      <td>lib24</td>\n",
       "      <td>exptREF3-none-0-ref</td>\n",
       "      <td>expt7-C68_490-53-abneg</td>\n",
       "      <td>ACTAACTGCACGTGAG</td>\n",
       "      <td>0.000078</td>\n",
       "      <td>1.210803e-08</td>\n",
       "      <td>4565</td>\n",
       "      <td>0</td>\n",
       "      <td>GAA10AAA</td>\n",
       "      <td>1</td>\n",
       "      <td>E10K</td>\n",
       "      <td>1</td>\n",
       "      <td>1 nonsynonymous</td>\n",
       "      <td>True</td>\n",
       "      <td>True</td>\n",
       "      <td>True</td>\n",
       "      <td>True</td>\n",
       "    </tr>\n",
       "    <tr>\n",
       "      <th>9</th>\n",
       "      <td>C68_490_53</td>\n",
       "      <td>Omicron_BA2</td>\n",
       "      <td>lib24</td>\n",
       "      <td>exptREF3-none-0-ref</td>\n",
       "      <td>expt7-C68_490-53-abneg</td>\n",
       "      <td>GTACAGCATCTGAGTT</td>\n",
       "      <td>0.000078</td>\n",
       "      <td>1.213460e-08</td>\n",
       "      <td>4560</td>\n",
       "      <td>0</td>\n",
       "      <td>AAG198GTT</td>\n",
       "      <td>1</td>\n",
       "      <td>K198V</td>\n",
       "      <td>1</td>\n",
       "      <td>1 nonsynonymous</td>\n",
       "      <td>True</td>\n",
       "      <td>True</td>\n",
       "      <td>True</td>\n",
       "      <td>True</td>\n",
       "    </tr>\n",
       "  </tbody>\n",
       "</table>"
      ],
      "text/plain": [
       "<IPython.core.display.HTML object>"
      ]
     },
     "metadata": {},
     "output_type": "display_data"
    },
    {
     "name": "stdout",
     "output_type": "stream",
     "text": [
      "Read 100753 scores.\n"
     ]
    }
   ],
   "source": [
    "escape_scores_primary = (escape_scores\n",
    "                         .query('(pass_pre_count_filter == True) & (pass_ACE2bind_expr_filter == True)')\n",
    "                        )\n",
    "\n",
    "display(HTML(escape_scores_primary.head().to_html()))\n",
    "print(f\"Read {len(escape_scores_primary)} scores.\")"
   ]
  },
  {
   "cell_type": "markdown",
   "metadata": {},
   "source": [
    "### Count number of barcodes per mutation and remove variants with >1 amino acid substitution\n",
    "Also add the number of barocdes per mutation to the `escape_scores` dataframe and plot this. \n",
    "But first see how many variants there are with >1 mutation, and query the dataframe to look at them qualitatively. "
   ]
  },
  {
   "cell_type": "code",
   "execution_count": 35,
   "metadata": {},
   "outputs": [],
   "source": [
    "p = (ggplot(escape_scores_primary) +\n",
    "     aes('n_aa_substitutions', fill='variant_class') +\n",
    "     geom_bar() +\n",
    "     facet_wrap('~library + pre_sample', ncol=5) +\n",
    "     theme(\n",
    "#            figure_size=(3.3 * escape_scores_primary['pre_sample'].nunique(),\n",
    "#                         2 * escape_scores_primary['library'].nunique()),\n",
    "         figure_size=(12, 4),\n",
    "           panel_grid_major_x=element_blank(),\n",
    "           ) +\n",
    "     scale_fill_manual(values=CBPALETTE[1:]) +\n",
    "     expand_limits(y=(0, 1))\n",
    "     )\n",
    "\n",
    "_ = p.draw()"
   ]
  },
  {
   "cell_type": "markdown",
   "metadata": {},
   "source": [
    "### Filter dataframe on single mutations that are present in at least `n` number of variants (specified in `config.yaml` file)\n",
    "Now see how many `n_single_mut_measurements` there are for each variant:"
   ]
  },
  {
   "cell_type": "code",
   "execution_count": 36,
   "metadata": {},
   "outputs": [
    {
     "name": "stdout",
     "output_type": "stream",
     "text": [
      "Remove anything with fewer than 2 single mutant measurements (barcodes)\n"
     ]
    },
    {
     "data": {
      "text/html": [
       "<table border=\"1\" class=\"dataframe\">\n",
       "  <thead>\n",
       "    <tr style=\"text-align: right;\">\n",
       "      <th></th>\n",
       "      <th>selection</th>\n",
       "      <th>library</th>\n",
       "      <th>mutation</th>\n",
       "      <th>raw_single_mut_score</th>\n",
       "      <th>n_single_mut_measurements</th>\n",
       "    </tr>\n",
       "  </thead>\n",
       "  <tbody>\n",
       "    <tr>\n",
       "      <th>0</th>\n",
       "      <td>C68_490_53</td>\n",
       "      <td>lib24</td>\n",
       "      <td>A105I</td>\n",
       "      <td>0.001538</td>\n",
       "      <td>30</td>\n",
       "    </tr>\n",
       "    <tr>\n",
       "      <th>1</th>\n",
       "      <td>C68_490_53</td>\n",
       "      <td>lib24</td>\n",
       "      <td>A105S</td>\n",
       "      <td>0.001339</td>\n",
       "      <td>14</td>\n",
       "    </tr>\n",
       "    <tr>\n",
       "      <th>2</th>\n",
       "      <td>C68_490_53</td>\n",
       "      <td>lib24</td>\n",
       "      <td>A105T</td>\n",
       "      <td>0.001194</td>\n",
       "      <td>18</td>\n",
       "    </tr>\n",
       "    <tr>\n",
       "      <th>3</th>\n",
       "      <td>C68_490_53</td>\n",
       "      <td>lib24</td>\n",
       "      <td>A105V</td>\n",
       "      <td>0.001618</td>\n",
       "      <td>26</td>\n",
       "    </tr>\n",
       "    <tr>\n",
       "      <th>4</th>\n",
       "      <td>C68_490_53</td>\n",
       "      <td>lib24</td>\n",
       "      <td>A105W</td>\n",
       "      <td>0.001304</td>\n",
       "      <td>19</td>\n",
       "    </tr>\n",
       "  </tbody>\n",
       "</table>"
      ],
      "text/plain": [
       "<IPython.core.display.HTML object>"
      ]
     },
     "metadata": {},
     "output_type": "display_data"
    }
   ],
   "source": [
    "print(f'Remove anything with fewer than {config[\"escape_frac_min_single_mut_measurements\"]} single mutant measurements (barcodes)')\n",
    "\n",
    "raw_avg_single_mut_scores = (\n",
    "    escape_scores_primary\n",
    "    .query('n_aa_substitutions == 1')\n",
    "    .rename(columns={'name': 'selection',\n",
    "                     'aa_substitutions': 'mutation'})\n",
    "    .groupby(['selection', 'library', 'mutation'])\n",
    "    .aggregate(raw_single_mut_score=pd.NamedAgg('score', 'mean'),\n",
    "               n_single_mut_measurements=pd.NamedAgg('barcode', 'count')\n",
    "              )\n",
    "    .assign(sufficient_measurements=lambda x: (\n",
    "                (x['n_single_mut_measurements'] >= config['escape_frac_min_single_mut_measurements'])))\n",
    "    .reset_index()\n",
    "    )\n",
    "\n",
    "# remove mutations with insufficient measurements\n",
    "effects_df = (raw_avg_single_mut_scores\n",
    "              .query('sufficient_measurements == True')\n",
    "              .drop(columns='sufficient_measurements')\n",
    "              )\n",
    "\n",
    "# some error checks\n",
    "assert len(effects_df) == len(effects_df.drop_duplicates()), 'duplicate rows in `effects_df`'\n",
    "assert all(effects_df['raw_single_mut_score'].notnull() | (effects_df['n_single_mut_measurements'] == 0))\n",
    "\n",
    "display(HTML(effects_df.head().to_html()))"
   ]
  },
  {
   "cell_type": "markdown",
   "metadata": {},
   "source": [
    "### Should we exclude mutations for which the wildtype identity is a cysteine?\n",
    "These would be mutations that break disulfide bonds (unless there is an unpaired cysteine in the protein that does not form a disulfide bond, of course). \n",
    "Note that this approach would not work well for something like the SARS-CoV-2 NTD, where it has been documented (by the Veesler lab) that mutations in the B.1.427/429 (epislon) variant can rearrange disulfide bonds, leading to major structural rearrangements in the NTD, and yet an apparently fully functional spike. \n",
    "\n",
    "If we are excluding cysteines, do that now:"
   ]
  },
  {
   "cell_type": "code",
   "execution_count": 37,
   "metadata": {},
   "outputs": [
    {
     "name": "stdout",
     "output_type": "stream",
     "text": [
      "Excluding mutations where the wildtype identity is a cysteine\n",
      "Specifically, excluding: ['C158K' 'C158N' 'C195A' 'C195D' 'C195E' 'C195F' 'C195G' 'C195H' 'C195I'\n",
      " 'C195K' 'C195L' 'C195M' 'C195N' 'C195P' 'C195Q' 'C195R' 'C195S' 'C195T'\n",
      " 'C195V' 'C195W' 'C195Y' 'C31A' 'C31D' 'C31E' 'C31N' 'C31Q' 'C31S' 'C49W'\n",
      " 'C61A' 'C61D' 'C61E' 'C61G' 'C61H' 'C61I' 'C61K' 'C61L' 'C61M' 'C61N'\n",
      " 'C61P' 'C61Q' 'C61R' 'C61S' 'C61T' 'C61V' 'C61W' 'C61Y']\n"
     ]
    }
   ],
   "source": [
    "# if we are excluding all cysteines to remove spurious mutations that break disulfide bonds:\n",
    "if config['exclude_cysteines']:\n",
    "    print(f'Excluding mutations where the wildtype identity is a cysteine')\n",
    "    effects_df = effects_df.assign(pass_cysteine_filter=lambda x: x['mutation'].str[0] != \"C\",\n",
    "                                  )\n",
    "    disulfides_to_drop = effects_df.query('pass_cysteine_filter==False')['mutation'].unique()\n",
    "    print(f'Specifically, excluding: {disulfides_to_drop}')\n",
    "    effects_df=effects_df.query('pass_cysteine_filter').drop(columns='pass_cysteine_filter')\n",
    "\n",
    "else:\n",
    "    print(f'Retaining mutations where the wildtype identity is a cysteine')"
   ]
  },
  {
   "cell_type": "markdown",
   "metadata": {},
   "source": [
    "We need to compute the escape scores (calculated as [here](https://jbloomlab.github.io/dms_variants/dms_variants.codonvarianttable.html?highlight=escape_scores#dms_variants.codonvarianttable.CodonVariantTable.escape_scores)) back to escape fractions. We define a function to do this depending on the score type:"
   ]
  },
  {
   "cell_type": "code",
   "execution_count": 38,
   "metadata": {},
   "outputs": [],
   "source": [
    "def score_to_frac(score):\n",
    "    \"\"\"Convert escape score to escape fraction.\"\"\"\n",
    "    if pd.isnull(score):\n",
    "        return pd.NA\n",
    "    floor = config['escape_score_floor_E']\n",
    "    ceil = config['escape_score_ceil_E']\n",
    "    if config['escape_score_type'] == 'frac_escape':\n",
    "        return min(ceil, max(floor, score))  # just the score after applying ceiling and floor\n",
    "    elif config['escape_score_type'] == 'log_escape':\n",
    "        # convert score back to fraction, apply ceiling, then re-scale so floor is 0\n",
    "        frac = 2**score\n",
    "        frac = min(ceil, max(floor, frac))\n",
    "        frac = (frac - floor) / (ceil - floor)\n",
    "        return frac\n",
    "    else:\n",
    "        raise ValueError(f\"invalid `escape_score_type` of {config['escape_score_type']}\")\n",
    "\n",
    "effects_df = (\n",
    "    effects_df\n",
    "    .assign(\n",
    "            mut_escape_frac_single_mut=lambda x: x['raw_single_mut_score'].map(score_to_frac),\n",
    "            )\n",
    "    )"
   ]
  },
  {
   "cell_type": "markdown",
   "metadata": {},
   "source": [
    "### Average the escape score across all barcodes of the same mutation, for each library, and the average of both libraries. \n",
    "Add rows that are the average of the two libraries for the fraction escape for all mutations that are present in both libraries (and if in just one library, the value in that or purge depending on config values printed here), the number of libraries each mutation is measured in, and the sum of the statistics giving the number of measurements:"
   ]
  },
  {
   "cell_type": "code",
   "execution_count": 39,
   "metadata": {},
   "outputs": [
    {
     "name": "stdout",
     "output_type": "stream",
     "text": [
      "Only taking average of mutations with escape fractions in >=2 libraries or with >=2 single-mutant measurements total.\n",
      "2023\n",
      "4046\n"
     ]
    }
   ],
   "source": [
    "min_libs = config['escape_frac_avg_min_libraries']\n",
    "min_single = config['escape_frac_avg_min_single']\n",
    "print(f\"Only taking average of mutations with escape fractions in >={min_libs} libraries \"\n",
    "      f\"or with >={min_single} single-mutant measurements total.\")\n",
    "\n",
    "effects_df = (\n",
    "    effects_df\n",
    "    .query('library != \"average\"')  # git rid of averages if already there\n",
    "    .assign(nlibs=1)\n",
    "    .append(effects_df\n",
    "            .query('library != \"average\"')\n",
    "            .groupby(['selection', 'mutation'])\n",
    "            .aggregate(nlibs=pd.NamedAgg('library', 'count'),\n",
    "                       mut_escape_frac_single_mut=pd.NamedAgg('mut_escape_frac_single_mut',\n",
    "                                                              lambda s: s.mean(skipna=True)),\n",
    "                       n_single_mut_measurements=pd.NamedAgg('n_single_mut_measurements', 'sum'),\n",
    "                       )\n",
    "            .query('(nlibs >= @min_libs) or (n_single_mut_measurements >= @min_single)')\n",
    "            .assign(library=\"average\")\n",
    "            .reset_index(),\n",
    "            ignore_index=True, sort=False,\n",
    "            )\n",
    "    )\n",
    "\n",
    "print(len(effects_df.query('nlibs>1')))\n",
    "print(len(effects_df.query('nlibs==1')))"
   ]
  },
  {
   "cell_type": "markdown",
   "metadata": {},
   "source": [
    "Plot the correlations of the escape fractions among the two libraries for all selections performed on both libraries. "
   ]
  },
  {
   "cell_type": "code",
   "execution_count": 40,
   "metadata": {},
   "outputs": [],
   "source": [
    "libraries = [lib for lib in effects_df['library'].unique() if lib != \"average\"]\n",
    "assert len(libraries) == 2, 'plot only makes sense if 2 libraries'\n",
    "\n",
    "# wide data frame with each library's score in a different column\n",
    "effects_df_wide = (\n",
    "    effects_df\n",
    "    .query('library != \"average\"')\n",
    "    .query(f\"n_single_mut_measurements >= 1\")\n",
    "    # just get selections with 2 libraries\n",
    "    .assign(nlibs=lambda x: x.groupby('selection')['library'].transform('nunique'))\n",
    "    .query('nlibs == 2')\n",
    "    # now make columns for each library, only keep mutants with scores for both libs\n",
    "    [['selection', 'mutation', 'library', 'mut_escape_frac_single_mut']]\n",
    "    .pivot_table(index=['selection', 'mutation'],\n",
    "                 columns='library',\n",
    "                 values='mut_escape_frac_single_mut',\n",
    "                 aggfunc='first')\n",
    "    .reset_index()\n",
    "    .dropna(axis=0)\n",
    "    )\n",
    "\n",
    "# correlations between libraries\n",
    "corrs = (\n",
    "    effects_df_wide\n",
    "    .groupby('selection')\n",
    "    [libraries]\n",
    "    .corr(method='pearson')\n",
    "    .reset_index()\n",
    "    .query('library == @libraries[0]')\n",
    "    .assign(correlation=lambda x: 'R=' + x[libraries[1]].round(2).astype(str))\n",
    "    [['selection', 'correlation']]\n",
    "    # add number of mutations measured\n",
    "    .merge(effects_df_wide\n",
    "           .groupby('selection')\n",
    "           .size()\n",
    "           .rename('n')\n",
    "           .reset_index()\n",
    "           )\n",
    "    .assign(correlation=lambda x: x['correlation'] + ', N=' + x['n'].astype(str))\n",
    "    )\n",
    "\n",
    "# plot correlations\n",
    "nfacets = effects_df_wide['selection'].nunique()\n",
    "ncol = min(nfacets, 5)\n",
    "nrow = math.ceil(nfacets / ncol)\n",
    "xmin = effects_df_wide[libraries[0]].min()\n",
    "xspan = effects_df_wide[libraries[0]].max() - xmin\n",
    "ymin = effects_df_wide[libraries[1]].min()\n",
    "yspan = effects_df_wide[libraries[1]].max() - ymin\n",
    "p = (ggplot(effects_df_wide) +\n",
    "     aes(libraries[0], libraries[1]) +\n",
    "     geom_point(alpha=0.2) +\n",
    "     geom_text(mapping=aes(label='correlation'),\n",
    "               data=corrs,\n",
    "               x=0.01 * xspan + xmin,\n",
    "               y=0.99 * yspan + ymin,\n",
    "               size=10,\n",
    "               ha='left',\n",
    "               va='top',\n",
    "               ) +\n",
    "     facet_wrap('~ selection', ncol=ncol) +\n",
    "     theme(figure_size=(2.5 * ncol, 2.5 * nrow),\n",
    "           plot_title=element_text(size=14)) +\n",
    "     ggtitle('Mutation-level escape fractions')\n",
    "     )\n",
    "\n",
    "_ = p.draw()"
   ]
  },
  {
   "cell_type": "markdown",
   "metadata": {},
   "source": [
    "### Escape at site level\n",
    "The above analysis estimates the effects of mutations. We also compute escape statistics at the site level. First, add sites to the data frame of mutational effects:"
   ]
  },
  {
   "cell_type": "code",
   "execution_count": 41,
   "metadata": {},
   "outputs": [],
   "source": [
    "effects_df = (\n",
    "    effects_df\n",
    "    .assign(site=lambda x: x['mutation'].str[1: -1].astype(int),\n",
    "            wildtype=lambda x: x['mutation'].str[0],\n",
    "            mutant=lambda x: x['mutation'].str[-1],\n",
    "            )\n",
    "    )"
   ]
  },
  {
   "cell_type": "markdown",
   "metadata": {},
   "source": [
    "Now compute some site-level metrics. These are the average and total escape fraction at each site over all mutations at the site:"
   ]
  },
  {
   "cell_type": "code",
   "execution_count": 42,
   "metadata": {},
   "outputs": [
    {
     "data": {
      "text/html": [
       "<table border=\"1\" class=\"dataframe\">\n",
       "  <thead>\n",
       "    <tr style=\"text-align: right;\">\n",
       "      <th>selection</th>\n",
       "      <th>library</th>\n",
       "      <th>site</th>\n",
       "      <th>site_avg_escape_frac_single_mut</th>\n",
       "      <th>site_total_escape_frac_single_mut</th>\n",
       "    </tr>\n",
       "  </thead>\n",
       "  <tbody>\n",
       "    <tr>\n",
       "      <td>C68_490_53</td>\n",
       "      <td>average</td>\n",
       "      <td>1</td>\n",
       "      <td>0.003322</td>\n",
       "      <td>0.043189</td>\n",
       "    </tr>\n",
       "    <tr>\n",
       "      <td>C68_490_53</td>\n",
       "      <td>average</td>\n",
       "      <td>2</td>\n",
       "      <td>0.003619</td>\n",
       "      <td>0.068752</td>\n",
       "    </tr>\n",
       "    <tr>\n",
       "      <td>C68_490_53</td>\n",
       "      <td>average</td>\n",
       "      <td>3</td>\n",
       "      <td>0.003409</td>\n",
       "      <td>0.051140</td>\n",
       "    </tr>\n",
       "    <tr>\n",
       "      <td>C68_490_53</td>\n",
       "      <td>average</td>\n",
       "      <td>4</td>\n",
       "      <td>0.003285</td>\n",
       "      <td>0.059126</td>\n",
       "    </tr>\n",
       "    <tr>\n",
       "      <td>C68_490_53</td>\n",
       "      <td>average</td>\n",
       "      <td>5</td>\n",
       "      <td>0.003937</td>\n",
       "      <td>0.074812</td>\n",
       "    </tr>\n",
       "  </tbody>\n",
       "</table>"
      ],
      "text/plain": [
       "<IPython.core.display.HTML object>"
      ]
     },
     "metadata": {},
     "output_type": "display_data"
    }
   ],
   "source": [
    "site_effects_df = (\n",
    "    effects_df\n",
    "    .groupby(['selection', 'library', 'site'])\n",
    "    .aggregate(\n",
    "        site_avg_escape_frac_single_mut=pd.NamedAgg('mut_escape_frac_single_mut',\n",
    "                                                    lambda s: s.mean(skipna=True)),\n",
    "        site_total_escape_frac_single_mut=pd.NamedAgg('mut_escape_frac_single_mut', 'sum'),\n",
    "        )\n",
    "    .reset_index()\n",
    "    )\n",
    "\n",
    "display(HTML(site_effects_df.head().to_html(index=False)))"
   ]
  },
  {
   "cell_type": "markdown",
   "metadata": {},
   "source": [
    "Plot correlations between libraries of the same selection for the site-level statistics:"
   ]
  },
  {
   "cell_type": "code",
   "execution_count": 43,
   "metadata": {},
   "outputs": [],
   "source": [
    "libraries = [lib for lib in effects_df['library'].unique() if lib != \"average\"]\n",
    "assert len(libraries) == 2, 'plot only makes sense if 2 libraries'\n",
    "\n",
    "for val in ['site_avg_escape_frac_single_mut', 'site_total_escape_frac_single_mut']:\n",
    "\n",
    "    # wide data frame with each library's score in a different column\n",
    "    site_effects_df_wide = (\n",
    "        site_effects_df\n",
    "        .query('library != \"average\"')\n",
    "        # just get selections with 2 libraries\n",
    "        .assign(nlibs=lambda x: x.groupby('selection')['library'].transform('nunique'))\n",
    "        .query('nlibs == 2')\n",
    "        # now make columns for each library, only keep sites with scores for both libs\n",
    "        .pivot_table(index=['selection', 'site'],\n",
    "                     columns='library',\n",
    "                     values=val)\n",
    "        .reset_index()\n",
    "        .dropna(axis=0)\n",
    "        )\n",
    "\n",
    "    # correlations between libraries\n",
    "    corrs = (\n",
    "        site_effects_df_wide\n",
    "        .groupby('selection')\n",
    "        [libraries]\n",
    "        .corr(method='pearson')\n",
    "        .reset_index()\n",
    "        .query('library == @libraries[0]')\n",
    "        .assign(correlation=lambda x: 'R=' + x[libraries[1]].round(2).astype(str))\n",
    "        [['selection', 'correlation']]\n",
    "        # add number of mutations measured\n",
    "        .merge(site_effects_df_wide\n",
    "               .groupby('selection')\n",
    "               .size()\n",
    "               .rename('n')\n",
    "               .reset_index()\n",
    "               )\n",
    "        .assign(correlation=lambda x: x['correlation'] + ', N=' + x['n'].astype(str))\n",
    "        )\n",
    "\n",
    "    # plot correlations\n",
    "    nfacets = site_effects_df_wide['selection'].nunique()\n",
    "    ncol = min(nfacets, 5)\n",
    "    nrow = math.ceil(nfacets / ncol)\n",
    "    xmin = site_effects_df_wide[libraries[0]].min()\n",
    "    xspan = site_effects_df_wide[libraries[0]].max() - xmin\n",
    "    ymin = site_effects_df_wide[libraries[1]].min()\n",
    "    yspan = site_effects_df_wide[libraries[1]].max() - ymin\n",
    "    p = (ggplot(site_effects_df_wide) +\n",
    "         aes(libraries[0], libraries[1]) +\n",
    "         geom_point(alpha=0.2) +\n",
    "         geom_text(mapping=aes(label='correlation'),\n",
    "                   data=corrs,\n",
    "                   x=0.01 * xspan + xmin,\n",
    "                   y=0.99 * yspan + ymin,\n",
    "                   size=10,\n",
    "                   ha='left',\n",
    "                   va='top',\n",
    "                   ) +\n",
    "         facet_wrap('~ selection', ncol=ncol) +\n",
    "         theme(figure_size=(2.5 * ncol, 2.5 * nrow),\n",
    "               plot_title=element_text(size=14)) +\n",
    "         ggtitle(val)\n",
    "         )\n",
    "\n",
    "    _ = p.draw()"
   ]
  },
  {
   "cell_type": "markdown",
   "metadata": {},
   "source": [
    "## Write file with escape fractions at mutation and site levels\n",
    "We write a files that has the mutation- and site-level escape fractions. This file has both the separate measurements for each library plus the average across libraries for all mutations measured in both libraries. We name the columns in such a way that this file can be used as [dms-view data file](https://dms-view.github.io/docs/dataupload):"
   ]
  },
  {
   "cell_type": "code",
   "execution_count": 44,
   "metadata": {},
   "outputs": [
    {
     "name": "stdout",
     "output_type": "stream",
     "text": [
      "Here are the first few lines that will be written to the escape-fraction file:\n"
     ]
    },
    {
     "data": {
      "text/html": [
       "<table border=\"1\" class=\"dataframe\">\n",
       "  <thead>\n",
       "    <tr style=\"text-align: right;\">\n",
       "      <th>selection</th>\n",
       "      <th>library</th>\n",
       "      <th>condition</th>\n",
       "      <th>site</th>\n",
       "      <th>label_site</th>\n",
       "      <th>wildtype</th>\n",
       "      <th>mutation</th>\n",
       "      <th>protein_chain</th>\n",
       "      <th>protein_site</th>\n",
       "      <th>mut_escape_frac_single_mut</th>\n",
       "      <th>site_total_escape_frac_single_mut</th>\n",
       "      <th>site_avg_escape_frac_single_mut</th>\n",
       "      <th>nlibs</th>\n",
       "      <th>n_single_mut_measurements</th>\n",
       "    </tr>\n",
       "  </thead>\n",
       "  <tbody>\n",
       "    <tr>\n",
       "      <td>C68_490_53</td>\n",
       "      <td>average</td>\n",
       "      <td>C68_490_53</td>\n",
       "      <td>1</td>\n",
       "      <td>331</td>\n",
       "      <td>N</td>\n",
       "      <td>A</td>\n",
       "      <td>E</td>\n",
       "      <td>331</td>\n",
       "      <td>0.002525</td>\n",
       "      <td>0.043189</td>\n",
       "      <td>0.003322</td>\n",
       "      <td>2</td>\n",
       "      <td>31</td>\n",
       "    </tr>\n",
       "    <tr>\n",
       "      <td>C68_490_53</td>\n",
       "      <td>average</td>\n",
       "      <td>C68_490_53</td>\n",
       "      <td>1</td>\n",
       "      <td>331</td>\n",
       "      <td>N</td>\n",
       "      <td>D</td>\n",
       "      <td>E</td>\n",
       "      <td>331</td>\n",
       "      <td>0.010181</td>\n",
       "      <td>0.043189</td>\n",
       "      <td>0.003322</td>\n",
       "      <td>2</td>\n",
       "      <td>43</td>\n",
       "    </tr>\n",
       "    <tr>\n",
       "      <td>C68_490_53</td>\n",
       "      <td>average</td>\n",
       "      <td>C68_490_53</td>\n",
       "      <td>1</td>\n",
       "      <td>331</td>\n",
       "      <td>N</td>\n",
       "      <td>E</td>\n",
       "      <td>E</td>\n",
       "      <td>331</td>\n",
       "      <td>0.002464</td>\n",
       "      <td>0.043189</td>\n",
       "      <td>0.003322</td>\n",
       "      <td>2</td>\n",
       "      <td>32</td>\n",
       "    </tr>\n",
       "    <tr>\n",
       "      <td>C68_490_53</td>\n",
       "      <td>average</td>\n",
       "      <td>C68_490_53</td>\n",
       "      <td>1</td>\n",
       "      <td>331</td>\n",
       "      <td>N</td>\n",
       "      <td>G</td>\n",
       "      <td>E</td>\n",
       "      <td>331</td>\n",
       "      <td>0.003125</td>\n",
       "      <td>0.043189</td>\n",
       "      <td>0.003322</td>\n",
       "      <td>2</td>\n",
       "      <td>25</td>\n",
       "    </tr>\n",
       "    <tr>\n",
       "      <td>C68_490_53</td>\n",
       "      <td>average</td>\n",
       "      <td>C68_490_53</td>\n",
       "      <td>1</td>\n",
       "      <td>331</td>\n",
       "      <td>N</td>\n",
       "      <td>H</td>\n",
       "      <td>E</td>\n",
       "      <td>331</td>\n",
       "      <td>0.002906</td>\n",
       "      <td>0.043189</td>\n",
       "      <td>0.003322</td>\n",
       "      <td>2</td>\n",
       "      <td>44</td>\n",
       "    </tr>\n",
       "  </tbody>\n",
       "</table>"
      ],
      "text/plain": [
       "<IPython.core.display.HTML object>"
      ]
     },
     "metadata": {},
     "output_type": "display_data"
    },
    {
     "name": "stdout",
     "output_type": "stream",
     "text": [
      "\n",
      "Writing to results/escape_scores/escape_fracs_Omicron_BA2.csv\n"
     ]
    }
   ],
   "source": [
    "escape_fracs_to_write = (\n",
    "    effects_df\n",
    "    .merge(site_effects_df,\n",
    "           how='left',\n",
    "           validate='many_to_one',\n",
    "           on=['selection', 'library', 'site'])\n",
    "    .assign(protein_chain=config['escape_frac_protein_chain'],\n",
    "            protein_site=lambda x: x['site'] + config['site_number_offset'],\n",
    "            label_site=lambda x: x['protein_site'],\n",
    "            condition=lambda x: x['selection'].where(x['library'] == \"average\", x['selection'] + '_' + x['library']),\n",
    "            mutation=lambda x: x['mutant'],  # dms-view uses mutation to refer to mutant amino acid\n",
    "            )\n",
    "    [['selection', 'library', 'condition', 'site', 'label_site', 'wildtype', 'mutation',\n",
    "      'protein_chain', 'protein_site', 'mut_escape_frac_single_mut', 'site_total_escape_frac_single_mut',\n",
    "      'site_avg_escape_frac_single_mut', 'nlibs', 'n_single_mut_measurements',\n",
    "      ]]\n",
    "    .sort_values(['library', 'selection', 'site', 'mutation'])\n",
    "    )\n",
    "\n",
    "print('Here are the first few lines that will be written to the escape-fraction file:')\n",
    "display(HTML(escape_fracs_to_write.head().to_html(index=False)))\n",
    "\n",
    "print(f\"\\nWriting to {config['escape_fracs_Omicron_BA2']}\")\n",
    "escape_fracs_to_write.to_csv(config['escape_fracs_Omicron_BA2'], index=False, float_format='%.4g')\n"
   ]
  },
  {
   "cell_type": "code",
   "execution_count": null,
   "metadata": {},
   "outputs": [],
   "source": []
  }
 ],
 "metadata": {
  "language_info": {
   "name": "python"
  }
 },
 "nbformat": 4,
 "nbformat_minor": 4
}
